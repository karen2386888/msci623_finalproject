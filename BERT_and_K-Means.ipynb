{
  "nbformat": 4,
  "nbformat_minor": 0,
  "metadata": {
    "colab": {
      "name": "msci623.ipynb",
      "provenance": [],
      "collapsed_sections": [],
      "toc_visible": true
    },
    "kernelspec": {
      "name": "python3",
      "display_name": "Python 3"
    }
  },
  "cells": [
    {
      "cell_type": "markdown",
      "metadata": {
        "id": "26aAaRXtNs7U",
        "colab_type": "text"
      },
      "source": [
        "# **Set up your TPU environment**\n",
        "\n"
      ]
    },
    {
      "cell_type": "code",
      "metadata": {
        "id": "yxEWS3wLNuyN",
        "colab_type": "code",
        "colab": {}
      },
      "source": [
        "import os, sys, json\n",
        "import tensorflow as tf\n",
        "import tensorflow_gcs_config\n",
        "\n",
        "# # set up TPU strategy\n",
        "# assert 'COLAB_TPU_ADDR' in os.environ, 'ERROR: Not connected to a TPU runtime; please see the first cell in this notebook for instructions!'\n",
        "# TPU_ADDRESS = 'grpc://' + os.environ['COLAB_TPU_ADDR']\n",
        "# tpu = tf.distribute.cluster_resolver.TPUClusterResolver()  # TPU detection\n",
        "# tf.config.experimental_connect_to_cluster(tpu)\n",
        "# tf.tpu.experimental.initialize_tpu_system(tpu)\n",
        "# tpu_strategy = tf.distribute.experimental.TPUStrategy(tpu)"
      ],
      "execution_count": 4,
      "outputs": []
    },
    {
      "cell_type": "code",
      "metadata": {
        "id": "fwfJ5Sx1QrN9",
        "colab_type": "code",
        "colab": {}
      },
      "source": [
        "!pip install -q tf-models-official==2.3.0\n",
        "# !pip install -q tensorflow==2.3.0\n",
        "# !pip install -q tf-models-nightly\n",
        "# !pip install -q tf-nightly"
      ],
      "execution_count": 5,
      "outputs": []
    },
    {
      "cell_type": "code",
      "metadata": {
        "id": "r4qHd05NHUoD",
        "colab_type": "code",
        "colab": {
          "base_uri": "https://localhost:8080/",
          "height": 74
        },
        "outputId": "90eebd78-2db1-4dc0-dfc8-e462604c126d"
      },
      "source": [
        "from google.colab import files\n",
        "import seaborn as sns\n",
        "import matplotlib as mpl\n",
        "%matplotlib inline\n",
        "from matplotlib import pyplot as plt\n",
        "import numpy as np\n",
        "import pandas as pd\n",
        "from sklearn.preprocessing import LabelEncoder\n",
        "from sklearn.model_selection import train_test_split\n",
        "\n",
        "import tensorflow_hub as hub\n",
        "from official.modeling import tf_utils\n",
        "from official import nlp\n",
        "from official.nlp import bert\n",
        "\n",
        "# Load the required submodules\n",
        "import official.nlp.optimization\n",
        "import official.nlp.bert.bert_models\n",
        "import official.nlp.bert.configs\n",
        "import official.nlp.bert.run_classifier\n",
        "import official.nlp.bert.tokenization\n",
        "import official.nlp.data.classifier_data_lib\n",
        "import official.nlp.modeling.losses\n",
        "import official.nlp.modeling.models\n",
        "import official.nlp.modeling.networks\n",
        "\n",
        "from sklearn.feature_extraction.text import TfidfVectorizer\n",
        "from sklearn.cluster import KMeans\n",
        "from sklearn.preprocessing import normalize\n",
        "from sklearn.metrics import pairwise_distances\n",
        "from sklearn.decomposition import PCA"
      ],
      "execution_count": 6,
      "outputs": [
        {
          "output_type": "stream",
          "text": [
            "/usr/local/lib/python3.6/dist-packages/statsmodels/tools/_testing.py:19: FutureWarning: pandas.util.testing is deprecated. Use the functions in the public API at pandas.testing instead.\n",
            "  import pandas.util.testing as tm\n"
          ],
          "name": "stderr"
        }
      ]
    },
    {
      "cell_type": "markdown",
      "metadata": {
        "id": "FWaZDAxcnpeP",
        "colab_type": "text"
      },
      "source": [
        "# **Load Data**"
      ]
    },
    {
      "cell_type": "markdown",
      "metadata": {
        "id": "d5eIhT3OQ8s3",
        "colab_type": "text"
      },
      "source": [
        "The Amazon Fine Food Reviews dataset is downloaded from https://www.kaggle.com/snap/amazon-fine-food-reviews. "
      ]
    },
    {
      "cell_type": "code",
      "metadata": {
        "id": "JATlu9Svkv_0",
        "colab_type": "code",
        "colab": {
          "resources": {
            "http://localhost:8080/nbextensions/google.colab/files.js": {
              "data": "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",
              "ok": true,
              "headers": [
                [
                  "content-type",
                  "application/javascript"
                ]
              ],
              "status": 200,
              "status_text": ""
            }
          },
          "base_uri": "https://localhost:8080/",
          "height": 91
        },
        "outputId": "9ad20ff7-92af-4baf-ebd2-0710b1b99221"
      },
      "source": [
        "# upload kaggle.json file\n",
        "files.upload()"
      ],
      "execution_count": 7,
      "outputs": [
        {
          "output_type": "display_data",
          "data": {
            "text/html": [
              "\n",
              "     <input type=\"file\" id=\"files-be2d24c7-3a84-4aff-b77f-0ec460cbfc85\" name=\"files[]\" multiple disabled\n",
              "        style=\"border:none\" />\n",
              "     <output id=\"result-be2d24c7-3a84-4aff-b77f-0ec460cbfc85\">\n",
              "      Upload widget is only available when the cell has been executed in the\n",
              "      current browser session. Please rerun this cell to enable.\n",
              "      </output>\n",
              "      <script src=\"/nbextensions/google.colab/files.js\"></script> "
            ],
            "text/plain": [
              "<IPython.core.display.HTML object>"
            ]
          },
          "metadata": {
            "tags": []
          }
        },
        {
          "output_type": "stream",
          "text": [
            "Saving kaggle.json to kaggle (1).json\n"
          ],
          "name": "stdout"
        },
        {
          "output_type": "execute_result",
          "data": {
            "text/plain": [
              "{'kaggle.json': b'{\"username\":\"tianyushi94\",\"key\":\"4492463f9aa5b5f09c0e366bf17c6287\"}'}"
            ]
          },
          "metadata": {
            "tags": []
          },
          "execution_count": 7
        }
      ]
    },
    {
      "cell_type": "code",
      "metadata": {
        "id": "wp-l8SMTk5xx",
        "colab_type": "code",
        "colab": {
          "base_uri": "https://localhost:8080/",
          "height": 217
        },
        "outputId": "18f73d60-b52d-4752-fa82-b073e1bc5372"
      },
      "source": [
        "!pip install kaggle"
      ],
      "execution_count": 8,
      "outputs": [
        {
          "output_type": "stream",
          "text": [
            "Requirement already satisfied: kaggle in /usr/local/lib/python3.6/dist-packages (1.5.6)\n",
            "Requirement already satisfied: six>=1.10 in /usr/local/lib/python3.6/dist-packages (from kaggle) (1.15.0)\n",
            "Requirement already satisfied: certifi in /usr/local/lib/python3.6/dist-packages (from kaggle) (2020.6.20)\n",
            "Requirement already satisfied: requests in /usr/local/lib/python3.6/dist-packages (from kaggle) (2.23.0)\n",
            "Requirement already satisfied: tqdm in /usr/local/lib/python3.6/dist-packages (from kaggle) (4.41.1)\n",
            "Requirement already satisfied: python-slugify in /usr/local/lib/python3.6/dist-packages (from kaggle) (4.0.1)\n",
            "Requirement already satisfied: python-dateutil in /usr/local/lib/python3.6/dist-packages (from kaggle) (2.8.1)\n",
            "Requirement already satisfied: urllib3<1.25,>=1.21.1 in /usr/local/lib/python3.6/dist-packages (from kaggle) (1.24.3)\n",
            "Requirement already satisfied: idna<3,>=2.5 in /usr/local/lib/python3.6/dist-packages (from requests->kaggle) (2.10)\n",
            "Requirement already satisfied: chardet<4,>=3.0.2 in /usr/local/lib/python3.6/dist-packages (from requests->kaggle) (3.0.4)\n",
            "Requirement already satisfied: text-unidecode>=1.3 in /usr/local/lib/python3.6/dist-packages (from python-slugify->kaggle) (1.3)\n"
          ],
          "name": "stdout"
        }
      ]
    },
    {
      "cell_type": "code",
      "metadata": {
        "id": "P-64lNg3k-VF",
        "colab_type": "code",
        "colab": {
          "base_uri": "https://localhost:8080/",
          "height": 90
        },
        "outputId": "887366db-e69d-4094-f32a-3749d1b5c72e"
      },
      "source": [
        "!mkdir -p ~/.kaggle\n",
        "!cp kaggle.json ~/.kaggle/\n",
        "!ls ~/.kaggle\n",
        "!chmod 600 /root/.kaggle/kaggle.json\n",
        "!kaggle datasets download -d snap/amazon-fine-food-reviews"
      ],
      "execution_count": 9,
      "outputs": [
        {
          "output_type": "stream",
          "text": [
            "kaggle.json\n",
            "Downloading amazon-fine-food-reviews.zip to /content\n",
            " 95% 231M/242M [00:04<00:00, 91.7MB/s]\n",
            "100% 242M/242M [00:04<00:00, 56.7MB/s]\n"
          ],
          "name": "stdout"
        }
      ]
    },
    {
      "cell_type": "code",
      "metadata": {
        "id": "CXahZM-Rm0A0",
        "colab_type": "code",
        "colab": {
          "base_uri": "https://localhost:8080/",
          "height": 35
        },
        "outputId": "97039cd2-6076-4505-d08e-c1af0d161682"
      },
      "source": [
        "!unzip -q amazon-fine-food-reviews.zip -d ."
      ],
      "execution_count": 10,
      "outputs": [
        {
          "output_type": "stream",
          "text": [
            "replace ./Reviews.csv? [y]es, [n]o, [A]ll, [N]one, [r]ename: y\n"
          ],
          "name": "stdout"
        }
      ]
    },
    {
      "cell_type": "code",
      "metadata": {
        "id": "zks28fRmnKGi",
        "colab_type": "code",
        "colab": {}
      },
      "source": [
        "!rm amazon-fine-food-reviews.zip\n",
        "!rm database.sqlite\n",
        "!rm hashes.txt"
      ],
      "execution_count": 11,
      "outputs": []
    },
    {
      "cell_type": "code",
      "metadata": {
        "id": "JhCfmp2vtfrv",
        "colab_type": "code",
        "colab": {}
      },
      "source": [
        "# Load csv files\n",
        "df = pd.read_csv('Reviews.csv')"
      ],
      "execution_count": 12,
      "outputs": []
    },
    {
      "cell_type": "code",
      "metadata": {
        "id": "bytwCr02w2Ts",
        "colab_type": "code",
        "colab": {
          "base_uri": "https://localhost:8080/",
          "height": 319
        },
        "outputId": "904caa8e-f190-4929-d585-7863db3718ce"
      },
      "source": [
        "# Shuffle the dataset\n",
        "np.random.seed(2020)\n",
        "df = df.reindex(np.random.permutation(df.index))\n",
        "df.head()"
      ],
      "execution_count": 13,
      "outputs": [
        {
          "output_type": "execute_result",
          "data": {
            "text/html": [
              "<div>\n",
              "<style scoped>\n",
              "    .dataframe tbody tr th:only-of-type {\n",
              "        vertical-align: middle;\n",
              "    }\n",
              "\n",
              "    .dataframe tbody tr th {\n",
              "        vertical-align: top;\n",
              "    }\n",
              "\n",
              "    .dataframe thead th {\n",
              "        text-align: right;\n",
              "    }\n",
              "</style>\n",
              "<table border=\"1\" class=\"dataframe\">\n",
              "  <thead>\n",
              "    <tr style=\"text-align: right;\">\n",
              "      <th></th>\n",
              "      <th>Id</th>\n",
              "      <th>ProductId</th>\n",
              "      <th>UserId</th>\n",
              "      <th>ProfileName</th>\n",
              "      <th>HelpfulnessNumerator</th>\n",
              "      <th>HelpfulnessDenominator</th>\n",
              "      <th>Score</th>\n",
              "      <th>Time</th>\n",
              "      <th>Summary</th>\n",
              "      <th>Text</th>\n",
              "    </tr>\n",
              "  </thead>\n",
              "  <tbody>\n",
              "    <tr>\n",
              "      <th>471635</th>\n",
              "      <td>471636</td>\n",
              "      <td>B000CSBVOO</td>\n",
              "      <td>A2TYOJB7EKHLMJ</td>\n",
              "      <td>Robert Solomon \"drrob1\"</td>\n",
              "      <td>0</td>\n",
              "      <td>0</td>\n",
              "      <td>5</td>\n",
              "      <td>1310774400</td>\n",
              "      <td>This is what I was looking for</td>\n",
              "      <td>My cafeteria sometimes has Smart Start, and so...</td>\n",
              "    </tr>\n",
              "    <tr>\n",
              "      <th>56346</th>\n",
              "      <td>56347</td>\n",
              "      <td>B007HOWZJQ</td>\n",
              "      <td>AZU9FXAINRFT2</td>\n",
              "      <td>LBOK</td>\n",
              "      <td>4</td>\n",
              "      <td>4</td>\n",
              "      <td>5</td>\n",
              "      <td>1339977600</td>\n",
              "      <td>Great sugar substitute!</td>\n",
              "      <td>This product is great. It tastes just like sug...</td>\n",
              "    </tr>\n",
              "    <tr>\n",
              "      <th>424181</th>\n",
              "      <td>424182</td>\n",
              "      <td>B000MGOZEO</td>\n",
              "      <td>A1SQ7NX5805BXU</td>\n",
              "      <td>Charles White</td>\n",
              "      <td>16</td>\n",
              "      <td>16</td>\n",
              "      <td>4</td>\n",
              "      <td>1222819200</td>\n",
              "      <td>Most of the sweet, none of the yuk</td>\n",
              "      <td>I can taste artificial sweeteners from across ...</td>\n",
              "    </tr>\n",
              "    <tr>\n",
              "      <th>460337</th>\n",
              "      <td>460338</td>\n",
              "      <td>B00507A02Q</td>\n",
              "      <td>A3Q2TRYNMSXHV5</td>\n",
              "      <td>Disappointed</td>\n",
              "      <td>21</td>\n",
              "      <td>23</td>\n",
              "      <td>1</td>\n",
              "      <td>1338249600</td>\n",
              "      <td>Throwing up</td>\n",
              "      <td>This is DISGUSTING! I wish i could get my mone...</td>\n",
              "    </tr>\n",
              "    <tr>\n",
              "      <th>483020</th>\n",
              "      <td>483021</td>\n",
              "      <td>B002L8XKZG</td>\n",
              "      <td>A3BSKE30VFG3FG</td>\n",
              "      <td>ChowDownBrownCow</td>\n",
              "      <td>0</td>\n",
              "      <td>0</td>\n",
              "      <td>5</td>\n",
              "      <td>1340928000</td>\n",
              "      <td>Dakine of dakine cookies!</td>\n",
              "      <td>The Key Lime Shortbread Cookies are divine, ab...</td>\n",
              "    </tr>\n",
              "  </tbody>\n",
              "</table>\n",
              "</div>"
            ],
            "text/plain": [
              "            Id  ...                                               Text\n",
              "471635  471636  ...  My cafeteria sometimes has Smart Start, and so...\n",
              "56346    56347  ...  This product is great. It tastes just like sug...\n",
              "424181  424182  ...  I can taste artificial sweeteners from across ...\n",
              "460337  460338  ...  This is DISGUSTING! I wish i could get my mone...\n",
              "483020  483021  ...  The Key Lime Shortbread Cookies are divine, ab...\n",
              "\n",
              "[5 rows x 10 columns]"
            ]
          },
          "metadata": {
            "tags": []
          },
          "execution_count": 13
        }
      ]
    },
    {
      "cell_type": "markdown",
      "metadata": {
        "id": "ZeD-G_u-zgF5",
        "colab_type": "text"
      },
      "source": [
        "# **Data pre-processing**"
      ]
    },
    {
      "cell_type": "code",
      "metadata": {
        "id": "t_JLVhwCiw4R",
        "colab_type": "code",
        "colab": {
          "base_uri": "https://localhost:8080/",
          "height": 35
        },
        "outputId": "a96dff63-713c-4d1d-a7aa-9469efce2a23"
      },
      "source": [
        "# Check the size of the dataset\n",
        "df.shape"
      ],
      "execution_count": 14,
      "outputs": [
        {
          "output_type": "execute_result",
          "data": {
            "text/plain": [
              "(568454, 10)"
            ]
          },
          "metadata": {
            "tags": []
          },
          "execution_count": 14
        }
      ]
    },
    {
      "cell_type": "code",
      "metadata": {
        "id": "PzlUnM8n3Zz6",
        "colab_type": "code",
        "colab": {
          "base_uri": "https://localhost:8080/",
          "height": 217
        },
        "outputId": "6f026f0a-39f9-457f-f6fb-53585cb44a63"
      },
      "source": [
        "# Check missing values\n",
        "df.isna().sum()"
      ],
      "execution_count": 15,
      "outputs": [
        {
          "output_type": "execute_result",
          "data": {
            "text/plain": [
              "Id                         0\n",
              "ProductId                  0\n",
              "UserId                     0\n",
              "ProfileName               16\n",
              "HelpfulnessNumerator       0\n",
              "HelpfulnessDenominator     0\n",
              "Score                      0\n",
              "Time                       0\n",
              "Summary                   27\n",
              "Text                       0\n",
              "dtype: int64"
            ]
          },
          "metadata": {
            "tags": []
          },
          "execution_count": 15
        }
      ]
    },
    {
      "cell_type": "markdown",
      "metadata": {
        "id": "va3eodo_7rk2",
        "colab_type": "text"
      },
      "source": [
        "Clean the data by dropping the NA values"
      ]
    },
    {
      "cell_type": "code",
      "metadata": {
        "id": "qiuj1LBn3zEu",
        "colab_type": "code",
        "colab": {}
      },
      "source": [
        "# Drop NA\n",
        "df = df.dropna()"
      ],
      "execution_count": 16,
      "outputs": []
    },
    {
      "cell_type": "code",
      "metadata": {
        "id": "TaxrYuG63_QU",
        "colab_type": "code",
        "colab": {
          "base_uri": "https://localhost:8080/",
          "height": 295
        },
        "outputId": "c363a600-0474-400c-b340-4ed0f78af257"
      },
      "source": [
        "ax = df.Score.value_counts().plot(kind='bar',color=['r','g','b','y','c'])\n",
        "ax.set_xlabel('Score')\n",
        "ax.set_ylabel('Counts')"
      ],
      "execution_count": 14,
      "outputs": [
        {
          "output_type": "execute_result",
          "data": {
            "text/plain": [
              "Text(0, 0.5, 'Counts')"
            ]
          },
          "metadata": {
            "tags": []
          },
          "execution_count": 14
        },
        {
          "output_type": "display_data",
          "data": {
            "image/png": "[encoded data removed]",
            "text/plain": [
              "<Figure size 432x288 with 1 Axes>"
            ]
          },
          "metadata": {
            "tags": [],
            "needs_background": "light"
          }
        }
      ]
    },
    {
      "cell_type": "markdown",
      "metadata": {
        "id": "i2xMw8Hx7x3N",
        "colab_type": "text"
      },
      "source": [
        "Notice that the distribution of the score is skewed towards '5', which leads to unbalanced categories. We decide to divide the score into 3 classes where '4' and '5' are positive (labeled as 2), '3' is neural (labeled as 1), and '1' and '2' are negative (labeled as 0)."
      ]
    },
    {
      "cell_type": "code",
      "metadata": {
        "id": "6m13lI-a9YQo",
        "colab_type": "code",
        "colab": {
          "base_uri": "https://localhost:8080/",
          "height": 199
        },
        "outputId": "b5ab8684-13f4-45c3-e2df-aa701fa65d8f"
      },
      "source": [
        "df.Score[df.Score<=2]=0\n",
        "df.Score[df.Score==3]=1\n",
        "df.Score[df.Score>=4]=2"
      ],
      "execution_count": 17,
      "outputs": [
        {
          "output_type": "stream",
          "text": [
            "/usr/local/lib/python3.6/dist-packages/ipykernel_launcher.py:2: SettingWithCopyWarning: \n",
            "A value is trying to be set on a copy of a slice from a DataFrame\n",
            "\n",
            "See the caveats in the documentation: https://pandas.pydata.org/pandas-docs/stable/user_guide/indexing.html#returning-a-view-versus-a-copy\n",
            "  \n",
            "/usr/local/lib/python3.6/dist-packages/ipykernel_launcher.py:3: SettingWithCopyWarning: \n",
            "A value is trying to be set on a copy of a slice from a DataFrame\n",
            "\n",
            "See the caveats in the documentation: https://pandas.pydata.org/pandas-docs/stable/user_guide/indexing.html#returning-a-view-versus-a-copy\n",
            "  This is separate from the ipykernel package so we can avoid doing imports until\n"
          ],
          "name": "stderr"
        }
      ]
    },
    {
      "cell_type": "code",
      "metadata": {
        "id": "a5oxG6a4B61A",
        "colab_type": "code",
        "colab": {
          "base_uri": "https://localhost:8080/",
          "height": 295
        },
        "outputId": "7363a7f6-0ab1-44c4-ba22-b9658393153a"
      },
      "source": [
        "ax=df.Score.value_counts().plot(kind='bar',color=['r','g','b'])\n",
        "ax.set_xlabel('Score')\n",
        "ax.set_ylabel('Counts')"
      ],
      "execution_count": null,
      "outputs": [
        {
          "output_type": "execute_result",
          "data": {
            "text/plain": [
              "Text(0, 0.5, 'Counts')"
            ]
          },
          "metadata": {
            "tags": []
          },
          "execution_count": 17
        },
        {
          "output_type": "display_data",
          "data": {
            "image/png": "[encoded data removed]",
            "text/plain": [
              "<Figure size 432x288 with 1 Axes>"
            ]
          },
          "metadata": {
            "tags": [],
            "needs_background": "light"
          }
        }
      ]
    },
    {
      "cell_type": "markdown",
      "metadata": {
        "id": "kVCCFD4K79pg",
        "colab_type": "text"
      },
      "source": [
        "# **K-means Clustering**"
      ]
    },
    {
      "cell_type": "markdown",
      "metadata": {
        "id": "HjeR-p_LdvFo",
        "colab_type": "text"
      },
      "source": [
        "Reference: https://towardsdatascience.com/k-means-clustering-8e1e64c1561c#:~:text=Making%20Sense%20of%20Text%20Data%20using%20Unsupervised%20Learning&text=So%20what%20exactly%20is%20K,data%20points%20within%20your%20data."
      ]
    },
    {
      "cell_type": "markdown",
      "metadata": {
        "id": "jTcxg41srRqt",
        "colab_type": "text"
      },
      "source": [
        "## **Text and Summary**"
      ]
    },
    {
      "cell_type": "code",
      "metadata": {
        "id": "2oTZJoJdjtS5",
        "colab_type": "code",
        "colab": {}
      },
      "source": [
        "data = df['Text'] + df['Summary']"
      ],
      "execution_count": 28,
      "outputs": []
    },
    {
      "cell_type": "code",
      "metadata": {
        "id": "phscrhs6L0fX",
        "colab_type": "code",
        "colab": {}
      },
      "source": [
        "# remove punctuation\n",
        "import unicodedata\n",
        "tbl = dict.fromkeys(i for i in range(sys.maxunicode)\n",
        "                      if unicodedata.category(chr(i)).startswith('P'))\n",
        "def remove_punctuation(text):\n",
        "    return text.translate(tbl)\n",
        "data=data.apply( lambda x: remove_punctuation(x))"
      ],
      "execution_count": 29,
      "outputs": []
    },
    {
      "cell_type": "code",
      "metadata": {
        "id": "2ijUcplkQLys",
        "colab_type": "code",
        "colab": {}
      },
      "source": [
        "# remove html tags\n",
        "import bs4\n",
        "data = data.apply(lambda x: bs4.BeautifulSoup(x, 'lxml').get_text())"
      ],
      "execution_count": 30,
      "outputs": []
    },
    {
      "cell_type": "code",
      "metadata": {
        "id": "zFnwr3Kjz4zI",
        "colab_type": "code",
        "colab": {}
      },
      "source": [
        "# Term Frequency-Inverse Document Frequency (TF-IDF)\n",
        "tf_idf_vectorizor = TfidfVectorizer(min_df = 0.05, max_df=0.95,\n",
        "                             ngram_range=(1, 3), \n",
        "                             stop_words='english')\n",
        "tf_idf = tf_idf_vectorizor.fit_transform(data)\n",
        "tf_idf_norm = normalize(tf_idf)\n",
        "tf_idf_array = tf_idf_norm.toarray()"
      ],
      "execution_count": 31,
      "outputs": []
    },
    {
      "cell_type": "code",
      "metadata": {
        "id": "p17CYGzlCFIS",
        "colab_type": "code",
        "colab": {
          "base_uri": "https://localhost:8080/",
          "height": 218
        },
        "outputId": "0da0f9ba-074d-4f01-9cdd-1430d9387236"
      },
      "source": [
        "pd.DataFrame(tf_idf_array, columns=tf_idf_vectorizor.get_feature_names()).head()"
      ],
      "execution_count": 32,
      "outputs": [
        {
          "output_type": "execute_result",
          "data": {
            "text/html": [
              "<div>\n",
              "<style scoped>\n",
              "    .dataframe tbody tr th:only-of-type {\n",
              "        vertical-align: middle;\n",
              "    }\n",
              "\n",
              "    .dataframe tbody tr th {\n",
              "        vertical-align: top;\n",
              "    }\n",
              "\n",
              "    .dataframe thead th {\n",
              "        text-align: right;\n",
              "    }\n",
              "</style>\n",
              "<table border=\"1\" class=\"dataframe\">\n",
              "  <thead>\n",
              "    <tr style=\"text-align: right;\">\n",
              "      <th></th>\n",
              "      <th>add</th>\n",
              "      <th>amazon</th>\n",
              "      <th>bad</th>\n",
              "      <th>bag</th>\n",
              "      <th>best</th>\n",
              "      <th>better</th>\n",
              "      <th>bit</th>\n",
              "      <th>bought</th>\n",
              "      <th>box</th>\n",
              "      <th>brand</th>\n",
              "      <th>buy</th>\n",
              "      <th>chocolate</th>\n",
              "      <th>coffee</th>\n",
              "      <th>cup</th>\n",
              "      <th>day</th>\n",
              "      <th>delicious</th>\n",
              "      <th>did</th>\n",
              "      <th>didnt</th>\n",
              "      <th>different</th>\n",
              "      <th>does</th>\n",
              "      <th>doesnt</th>\n",
              "      <th>dog</th>\n",
              "      <th>dont</th>\n",
              "      <th>drink</th>\n",
              "      <th>easy</th>\n",
              "      <th>eat</th>\n",
              "      <th>favorite</th>\n",
              "      <th>flavor</th>\n",
              "      <th>flavors</th>\n",
              "      <th>food</th>\n",
              "      <th>free</th>\n",
              "      <th>good</th>\n",
              "      <th>got</th>\n",
              "      <th>great</th>\n",
              "      <th>healthy</th>\n",
              "      <th>im</th>\n",
              "      <th>ive</th>\n",
              "      <th>just</th>\n",
              "      <th>know</th>\n",
              "      <th>like</th>\n",
              "      <th>little</th>\n",
              "      <th>lot</th>\n",
              "      <th>love</th>\n",
              "      <th>loves</th>\n",
              "      <th>make</th>\n",
              "      <th>makes</th>\n",
              "      <th>mix</th>\n",
              "      <th>need</th>\n",
              "      <th>nice</th>\n",
              "      <th>order</th>\n",
              "      <th>ordered</th>\n",
              "      <th>perfect</th>\n",
              "      <th>price</th>\n",
              "      <th>product</th>\n",
              "      <th>quality</th>\n",
              "      <th>really</th>\n",
              "      <th>recommend</th>\n",
              "      <th>right</th>\n",
              "      <th>say</th>\n",
              "      <th>small</th>\n",
              "      <th>snack</th>\n",
              "      <th>store</th>\n",
              "      <th>stuff</th>\n",
              "      <th>sugar</th>\n",
              "      <th>sure</th>\n",
              "      <th>sweet</th>\n",
              "      <th>taste</th>\n",
              "      <th>tastes</th>\n",
              "      <th>tea</th>\n",
              "      <th>think</th>\n",
              "      <th>time</th>\n",
              "      <th>tried</th>\n",
              "      <th>try</th>\n",
              "      <th>use</th>\n",
              "      <th>used</th>\n",
              "      <th>want</th>\n",
              "      <th>water</th>\n",
              "      <th>way</th>\n",
              "      <th>years</th>\n",
              "    </tr>\n",
              "  </thead>\n",
              "  <tbody>\n",
              "    <tr>\n",
              "      <th>0</th>\n",
              "      <td>0.0</td>\n",
              "      <td>0.0</td>\n",
              "      <td>0.0</td>\n",
              "      <td>0.0</td>\n",
              "      <td>0.000000</td>\n",
              "      <td>0.0</td>\n",
              "      <td>0.0</td>\n",
              "      <td>0.000000</td>\n",
              "      <td>0.000000</td>\n",
              "      <td>0.0</td>\n",
              "      <td>0.0</td>\n",
              "      <td>0.0</td>\n",
              "      <td>0.000000</td>\n",
              "      <td>0.0</td>\n",
              "      <td>0.0</td>\n",
              "      <td>0.000000</td>\n",
              "      <td>0.753504</td>\n",
              "      <td>0.0</td>\n",
              "      <td>0.0</td>\n",
              "      <td>0.0</td>\n",
              "      <td>0.000000</td>\n",
              "      <td>0.0</td>\n",
              "      <td>0.0</td>\n",
              "      <td>0.00000</td>\n",
              "      <td>0.0</td>\n",
              "      <td>0.0</td>\n",
              "      <td>0.0</td>\n",
              "      <td>0.0</td>\n",
              "      <td>0.000000</td>\n",
              "      <td>0.0</td>\n",
              "      <td>0.0</td>\n",
              "      <td>0.00000</td>\n",
              "      <td>0.000000</td>\n",
              "      <td>0.000000</td>\n",
              "      <td>0.0</td>\n",
              "      <td>0.657443</td>\n",
              "      <td>0.0</td>\n",
              "      <td>0.000000</td>\n",
              "      <td>0.0</td>\n",
              "      <td>0.000000</td>\n",
              "      <td>0.0</td>\n",
              "      <td>0.000000</td>\n",
              "      <td>0.0</td>\n",
              "      <td>0.0</td>\n",
              "      <td>0.000000</td>\n",
              "      <td>0.0</td>\n",
              "      <td>0.0</td>\n",
              "      <td>0.00000</td>\n",
              "      <td>0.0</td>\n",
              "      <td>0.0</td>\n",
              "      <td>0.0</td>\n",
              "      <td>0.000000</td>\n",
              "      <td>0.0</td>\n",
              "      <td>0.00000</td>\n",
              "      <td>0.0</td>\n",
              "      <td>0.0</td>\n",
              "      <td>0.0</td>\n",
              "      <td>0.0</td>\n",
              "      <td>0.0</td>\n",
              "      <td>0.0</td>\n",
              "      <td>0.0</td>\n",
              "      <td>0.0</td>\n",
              "      <td>0.000000</td>\n",
              "      <td>0.000000</td>\n",
              "      <td>0.000000</td>\n",
              "      <td>0.00000</td>\n",
              "      <td>0.000000</td>\n",
              "      <td>0.000000</td>\n",
              "      <td>0.0</td>\n",
              "      <td>0.0</td>\n",
              "      <td>0.000000</td>\n",
              "      <td>0.0</td>\n",
              "      <td>0.000000</td>\n",
              "      <td>0.000000</td>\n",
              "      <td>0.000000</td>\n",
              "      <td>0.0</td>\n",
              "      <td>0.0</td>\n",
              "      <td>0.0</td>\n",
              "      <td>0.0</td>\n",
              "    </tr>\n",
              "    <tr>\n",
              "      <th>1</th>\n",
              "      <td>0.0</td>\n",
              "      <td>0.0</td>\n",
              "      <td>0.0</td>\n",
              "      <td>0.0</td>\n",
              "      <td>0.000000</td>\n",
              "      <td>0.0</td>\n",
              "      <td>0.0</td>\n",
              "      <td>0.242684</td>\n",
              "      <td>0.000000</td>\n",
              "      <td>0.0</td>\n",
              "      <td>0.0</td>\n",
              "      <td>0.0</td>\n",
              "      <td>0.000000</td>\n",
              "      <td>0.0</td>\n",
              "      <td>0.0</td>\n",
              "      <td>0.000000</td>\n",
              "      <td>0.000000</td>\n",
              "      <td>0.0</td>\n",
              "      <td>0.0</td>\n",
              "      <td>0.0</td>\n",
              "      <td>0.000000</td>\n",
              "      <td>0.0</td>\n",
              "      <td>0.0</td>\n",
              "      <td>0.00000</td>\n",
              "      <td>0.0</td>\n",
              "      <td>0.0</td>\n",
              "      <td>0.0</td>\n",
              "      <td>0.0</td>\n",
              "      <td>0.000000</td>\n",
              "      <td>0.0</td>\n",
              "      <td>0.0</td>\n",
              "      <td>0.00000</td>\n",
              "      <td>0.000000</td>\n",
              "      <td>0.329289</td>\n",
              "      <td>0.0</td>\n",
              "      <td>0.000000</td>\n",
              "      <td>0.0</td>\n",
              "      <td>0.169033</td>\n",
              "      <td>0.0</td>\n",
              "      <td>0.149080</td>\n",
              "      <td>0.0</td>\n",
              "      <td>0.267108</td>\n",
              "      <td>0.0</td>\n",
              "      <td>0.0</td>\n",
              "      <td>0.000000</td>\n",
              "      <td>0.0</td>\n",
              "      <td>0.0</td>\n",
              "      <td>0.00000</td>\n",
              "      <td>0.0</td>\n",
              "      <td>0.0</td>\n",
              "      <td>0.0</td>\n",
              "      <td>0.000000</td>\n",
              "      <td>0.0</td>\n",
              "      <td>0.18118</td>\n",
              "      <td>0.0</td>\n",
              "      <td>0.0</td>\n",
              "      <td>0.0</td>\n",
              "      <td>0.0</td>\n",
              "      <td>0.0</td>\n",
              "      <td>0.0</td>\n",
              "      <td>0.0</td>\n",
              "      <td>0.0</td>\n",
              "      <td>0.000000</td>\n",
              "      <td>0.518478</td>\n",
              "      <td>0.274245</td>\n",
              "      <td>0.00000</td>\n",
              "      <td>0.170702</td>\n",
              "      <td>0.496619</td>\n",
              "      <td>0.0</td>\n",
              "      <td>0.0</td>\n",
              "      <td>0.000000</td>\n",
              "      <td>0.0</td>\n",
              "      <td>0.000000</td>\n",
              "      <td>0.000000</td>\n",
              "      <td>0.240632</td>\n",
              "      <td>0.0</td>\n",
              "      <td>0.0</td>\n",
              "      <td>0.0</td>\n",
              "      <td>0.0</td>\n",
              "    </tr>\n",
              "    <tr>\n",
              "      <th>2</th>\n",
              "      <td>0.0</td>\n",
              "      <td>0.0</td>\n",
              "      <td>0.0</td>\n",
              "      <td>0.0</td>\n",
              "      <td>0.136338</td>\n",
              "      <td>0.0</td>\n",
              "      <td>0.0</td>\n",
              "      <td>0.158793</td>\n",
              "      <td>0.680998</td>\n",
              "      <td>0.0</td>\n",
              "      <td>0.0</td>\n",
              "      <td>0.0</td>\n",
              "      <td>0.138395</td>\n",
              "      <td>0.0</td>\n",
              "      <td>0.0</td>\n",
              "      <td>0.000000</td>\n",
              "      <td>0.000000</td>\n",
              "      <td>0.0</td>\n",
              "      <td>0.0</td>\n",
              "      <td>0.0</td>\n",
              "      <td>0.174965</td>\n",
              "      <td>0.0</td>\n",
              "      <td>0.0</td>\n",
              "      <td>0.16896</td>\n",
              "      <td>0.0</td>\n",
              "      <td>0.0</td>\n",
              "      <td>0.0</td>\n",
              "      <td>0.0</td>\n",
              "      <td>0.000000</td>\n",
              "      <td>0.0</td>\n",
              "      <td>0.0</td>\n",
              "      <td>0.10182</td>\n",
              "      <td>0.000000</td>\n",
              "      <td>0.000000</td>\n",
              "      <td>0.0</td>\n",
              "      <td>0.000000</td>\n",
              "      <td>0.0</td>\n",
              "      <td>0.000000</td>\n",
              "      <td>0.0</td>\n",
              "      <td>0.000000</td>\n",
              "      <td>0.0</td>\n",
              "      <td>0.000000</td>\n",
              "      <td>0.0</td>\n",
              "      <td>0.0</td>\n",
              "      <td>0.000000</td>\n",
              "      <td>0.0</td>\n",
              "      <td>0.0</td>\n",
              "      <td>0.17966</td>\n",
              "      <td>0.0</td>\n",
              "      <td>0.0</td>\n",
              "      <td>0.0</td>\n",
              "      <td>0.000000</td>\n",
              "      <td>0.0</td>\n",
              "      <td>0.00000</td>\n",
              "      <td>0.0</td>\n",
              "      <td>0.0</td>\n",
              "      <td>0.0</td>\n",
              "      <td>0.0</td>\n",
              "      <td>0.0</td>\n",
              "      <td>0.0</td>\n",
              "      <td>0.0</td>\n",
              "      <td>0.0</td>\n",
              "      <td>0.343599</td>\n",
              "      <td>0.339252</td>\n",
              "      <td>0.179445</td>\n",
              "      <td>0.16432</td>\n",
              "      <td>0.111694</td>\n",
              "      <td>0.162474</td>\n",
              "      <td>0.0</td>\n",
              "      <td>0.0</td>\n",
              "      <td>0.141352</td>\n",
              "      <td>0.0</td>\n",
              "      <td>0.000000</td>\n",
              "      <td>0.142385</td>\n",
              "      <td>0.000000</td>\n",
              "      <td>0.0</td>\n",
              "      <td>0.0</td>\n",
              "      <td>0.0</td>\n",
              "      <td>0.0</td>\n",
              "    </tr>\n",
              "    <tr>\n",
              "      <th>3</th>\n",
              "      <td>0.0</td>\n",
              "      <td>0.0</td>\n",
              "      <td>0.0</td>\n",
              "      <td>0.0</td>\n",
              "      <td>0.000000</td>\n",
              "      <td>0.0</td>\n",
              "      <td>0.0</td>\n",
              "      <td>0.000000</td>\n",
              "      <td>0.000000</td>\n",
              "      <td>0.0</td>\n",
              "      <td>0.0</td>\n",
              "      <td>0.0</td>\n",
              "      <td>0.000000</td>\n",
              "      <td>0.0</td>\n",
              "      <td>0.0</td>\n",
              "      <td>0.000000</td>\n",
              "      <td>0.000000</td>\n",
              "      <td>0.0</td>\n",
              "      <td>0.0</td>\n",
              "      <td>0.0</td>\n",
              "      <td>0.000000</td>\n",
              "      <td>0.0</td>\n",
              "      <td>0.0</td>\n",
              "      <td>0.00000</td>\n",
              "      <td>0.0</td>\n",
              "      <td>0.0</td>\n",
              "      <td>0.0</td>\n",
              "      <td>0.0</td>\n",
              "      <td>0.000000</td>\n",
              "      <td>0.0</td>\n",
              "      <td>0.0</td>\n",
              "      <td>0.00000</td>\n",
              "      <td>0.000000</td>\n",
              "      <td>0.000000</td>\n",
              "      <td>0.0</td>\n",
              "      <td>0.000000</td>\n",
              "      <td>0.0</td>\n",
              "      <td>0.000000</td>\n",
              "      <td>0.0</td>\n",
              "      <td>1.000000</td>\n",
              "      <td>0.0</td>\n",
              "      <td>0.000000</td>\n",
              "      <td>0.0</td>\n",
              "      <td>0.0</td>\n",
              "      <td>0.000000</td>\n",
              "      <td>0.0</td>\n",
              "      <td>0.0</td>\n",
              "      <td>0.00000</td>\n",
              "      <td>0.0</td>\n",
              "      <td>0.0</td>\n",
              "      <td>0.0</td>\n",
              "      <td>0.000000</td>\n",
              "      <td>0.0</td>\n",
              "      <td>0.00000</td>\n",
              "      <td>0.0</td>\n",
              "      <td>0.0</td>\n",
              "      <td>0.0</td>\n",
              "      <td>0.0</td>\n",
              "      <td>0.0</td>\n",
              "      <td>0.0</td>\n",
              "      <td>0.0</td>\n",
              "      <td>0.0</td>\n",
              "      <td>0.000000</td>\n",
              "      <td>0.000000</td>\n",
              "      <td>0.000000</td>\n",
              "      <td>0.00000</td>\n",
              "      <td>0.000000</td>\n",
              "      <td>0.000000</td>\n",
              "      <td>0.0</td>\n",
              "      <td>0.0</td>\n",
              "      <td>0.000000</td>\n",
              "      <td>0.0</td>\n",
              "      <td>0.000000</td>\n",
              "      <td>0.000000</td>\n",
              "      <td>0.000000</td>\n",
              "      <td>0.0</td>\n",
              "      <td>0.0</td>\n",
              "      <td>0.0</td>\n",
              "      <td>0.0</td>\n",
              "    </tr>\n",
              "    <tr>\n",
              "      <th>4</th>\n",
              "      <td>0.0</td>\n",
              "      <td>0.0</td>\n",
              "      <td>0.0</td>\n",
              "      <td>0.0</td>\n",
              "      <td>0.000000</td>\n",
              "      <td>0.0</td>\n",
              "      <td>0.0</td>\n",
              "      <td>0.000000</td>\n",
              "      <td>0.000000</td>\n",
              "      <td>0.0</td>\n",
              "      <td>0.0</td>\n",
              "      <td>0.0</td>\n",
              "      <td>0.000000</td>\n",
              "      <td>0.0</td>\n",
              "      <td>0.0</td>\n",
              "      <td>0.315164</td>\n",
              "      <td>0.000000</td>\n",
              "      <td>0.0</td>\n",
              "      <td>0.0</td>\n",
              "      <td>0.0</td>\n",
              "      <td>0.000000</td>\n",
              "      <td>0.0</td>\n",
              "      <td>0.0</td>\n",
              "      <td>0.00000</td>\n",
              "      <td>0.0</td>\n",
              "      <td>0.0</td>\n",
              "      <td>0.0</td>\n",
              "      <td>0.0</td>\n",
              "      <td>0.334577</td>\n",
              "      <td>0.0</td>\n",
              "      <td>0.0</td>\n",
              "      <td>0.00000</td>\n",
              "      <td>0.318088</td>\n",
              "      <td>0.000000</td>\n",
              "      <td>0.0</td>\n",
              "      <td>0.000000</td>\n",
              "      <td>0.0</td>\n",
              "      <td>0.000000</td>\n",
              "      <td>0.0</td>\n",
              "      <td>0.184839</td>\n",
              "      <td>0.0</td>\n",
              "      <td>0.000000</td>\n",
              "      <td>0.0</td>\n",
              "      <td>0.0</td>\n",
              "      <td>0.275917</td>\n",
              "      <td>0.0</td>\n",
              "      <td>0.0</td>\n",
              "      <td>0.00000</td>\n",
              "      <td>0.0</td>\n",
              "      <td>0.0</td>\n",
              "      <td>0.0</td>\n",
              "      <td>0.673699</td>\n",
              "      <td>0.0</td>\n",
              "      <td>0.00000</td>\n",
              "      <td>0.0</td>\n",
              "      <td>0.0</td>\n",
              "      <td>0.0</td>\n",
              "      <td>0.0</td>\n",
              "      <td>0.0</td>\n",
              "      <td>0.0</td>\n",
              "      <td>0.0</td>\n",
              "      <td>0.0</td>\n",
              "      <td>0.000000</td>\n",
              "      <td>0.000000</td>\n",
              "      <td>0.000000</td>\n",
              "      <td>0.00000</td>\n",
              "      <td>0.211648</td>\n",
              "      <td>0.000000</td>\n",
              "      <td>0.0</td>\n",
              "      <td>0.0</td>\n",
              "      <td>0.000000</td>\n",
              "      <td>0.0</td>\n",
              "      <td>0.280337</td>\n",
              "      <td>0.000000</td>\n",
              "      <td>0.000000</td>\n",
              "      <td>0.0</td>\n",
              "      <td>0.0</td>\n",
              "      <td>0.0</td>\n",
              "      <td>0.0</td>\n",
              "    </tr>\n",
              "  </tbody>\n",
              "</table>\n",
              "</div>"
            ],
            "text/plain": [
              "   add  amazon  bad  bag      best  ...      used  want  water  way  years\n",
              "0  0.0     0.0  0.0  0.0  0.000000  ...  0.000000   0.0    0.0  0.0    0.0\n",
              "1  0.0     0.0  0.0  0.0  0.000000  ...  0.240632   0.0    0.0  0.0    0.0\n",
              "2  0.0     0.0  0.0  0.0  0.136338  ...  0.000000   0.0    0.0  0.0    0.0\n",
              "3  0.0     0.0  0.0  0.0  0.000000  ...  0.000000   0.0    0.0  0.0    0.0\n",
              "4  0.0     0.0  0.0  0.0  0.000000  ...  0.000000   0.0    0.0  0.0    0.0\n",
              "\n",
              "[5 rows x 79 columns]"
            ]
          },
          "metadata": {
            "tags": []
          },
          "execution_count": 32
        }
      ]
    },
    {
      "cell_type": "code",
      "metadata": {
        "id": "oFgm1ln8LTUh",
        "colab_type": "code",
        "colab": {}
      },
      "source": [
        "sklearn_pca = PCA(n_components = 2)\n",
        "Y_sklearn = sklearn_pca.fit_transform(tf_idf_array)"
      ],
      "execution_count": 33,
      "outputs": []
    },
    {
      "cell_type": "code",
      "metadata": {
        "id": "-QW0jzN6VouV",
        "colab_type": "code",
        "colab": {
          "base_uri": "https://localhost:8080/",
          "height": 295
        },
        "outputId": "080b16eb-7149-481d-f1fc-946823cde77e"
      },
      "source": [
        "# Elbow plot to find the optimal number of clusters\n",
        "number_clusters = range(1, 15)\n",
        "kmeans = [KMeans(n_clusters=i, max_iter = 600) for i in number_clusters]\n",
        "kmeans\n",
        "\n",
        "score = [kmeans[i].fit(Y_sklearn).score(Y_sklearn) for i in range(len(kmeans))]\n",
        "score\n",
        "\n",
        "plt.plot(number_clusters, score)\n",
        "plt.xlabel('Number of Clusters')\n",
        "plt.ylabel('Score')\n",
        "plt.title('Elbow Method')\n",
        "plt.show()"
      ],
      "execution_count": 34,
      "outputs": [
        {
          "output_type": "display_data",
          "data": {
            "image/png": "[encoded data removed]",
            "text/plain": [
              "<Figure size 432x288 with 1 Axes>"
            ]
          },
          "metadata": {
            "tags": [],
            "needs_background": "light"
          }
        }
      ]
    },
    {
      "cell_type": "markdown",
      "metadata": {
        "id": "l9sFROhXYOv0",
        "colab_type": "text"
      },
      "source": [
        "According to the elbow plot, we will go with 3 clusters."
      ]
    },
    {
      "cell_type": "code",
      "metadata": {
        "id": "SF6CdHQtLmJF",
        "colab_type": "code",
        "colab": {}
      },
      "source": [
        "kmeans = KMeans(n_clusters=3, max_iter=600, algorithm = 'auto')\n",
        "fitted = kmeans.fit(Y_sklearn)\n",
        "prediction = kmeans.predict(Y_sklearn)"
      ],
      "execution_count": 35,
      "outputs": []
    },
    {
      "cell_type": "code",
      "metadata": {
        "id": "fQEaonDACJXc",
        "colab_type": "code",
        "colab": {
          "base_uri": "https://localhost:8080/",
          "height": 265
        },
        "outputId": "4929fd9c-1cb6-47af-f788-6c47f1559e87"
      },
      "source": [
        "plt.scatter(Y_sklearn[:, 0], Y_sklearn[:, 1], c=prediction, s=50, cmap='viridis')\n",
        "centers = kmeans.cluster_centers_\n",
        "plt.scatter(centers[:, 0], centers[:, 1],c='black', s=300, alpha=0.6);"
      ],
      "execution_count": 36,
      "outputs": [
        {
          "output_type": "display_data",
          "data": {
            "image/png": "[encoded data removed]",
            "text/plain": [
              "<Figure size 432x288 with 1 Axes>"
            ]
          },
          "metadata": {
            "tags": [],
            "needs_background": "light"
          }
        }
      ]
    },
    {
      "cell_type": "code",
      "metadata": {
        "id": "WnBHkzd-bT91",
        "colab_type": "code",
        "colab": {}
      },
      "source": [
        "# Examining the Top words in each Cluster\n",
        "def get_top_features_cluster(tf_idf_array, prediction, n_feats):\n",
        "    labels = np.unique(prediction)\n",
        "    dfs = []\n",
        "    for label in labels:\n",
        "        id_temp = np.where(prediction==label) # indices for each cluster\n",
        "        x_means = np.mean(tf_idf_array[id_temp], axis = 0) # returns average score across cluster\n",
        "        sorted_means = np.argsort(x_means)[::-1][:n_feats] # indices with top 20 scores\n",
        "        features = tf_idf_vectorizor.get_feature_names()\n",
        "        best_features = [(features[i], x_means[i]) for i in sorted_means]\n",
        "        df = pd.DataFrame(best_features, columns = ['features', 'score'])\n",
        "        dfs.append(df)\n",
        "    return dfs"
      ],
      "execution_count": 37,
      "outputs": []
    },
    {
      "cell_type": "code",
      "metadata": {
        "id": "PMQGi6_8vNlI",
        "colab_type": "code",
        "colab": {}
      },
      "source": [
        "dfs_5 = get_top_features_cluster(tf_idf_array, prediction, 5)\n",
        "dfs_15 = get_top_features_cluster(tf_idf_array, prediction, 15)\n",
        "dfs_30 = get_top_features_cluster(tf_idf_array, prediction, 30)\n",
        "dfs_45 = get_top_features_cluster(tf_idf_array, prediction, 45)"
      ],
      "execution_count": 38,
      "outputs": []
    },
    {
      "cell_type": "markdown",
      "metadata": {
        "id": "9IWKawk9R6hJ",
        "colab_type": "text"
      },
      "source": [
        "Show the top N words in each cluster. For example 15."
      ]
    },
    {
      "cell_type": "code",
      "metadata": {
        "id": "1NIs6qQJC196",
        "colab_type": "code",
        "colab": {
          "base_uri": "https://localhost:8080/",
          "height": 366
        },
        "outputId": "ebec7af4-1fe3-4649-da04-318366ee0591"
      },
      "source": [
        "fig = plt.figure()\n",
        "ax = fig.add_axes([0,0,1,1])\n",
        "features = dfs_15[0]['features']\n",
        "score = dfs_15[0]['score']\n",
        "ax.bar(features,score,color='k')\n",
        "ax.set_xlabel('Features')\n",
        "ax.set_ylabel('Score')\n",
        "ax.set_title('Top 15 words in Cluster 0')\n",
        "plt.show()"
      ],
      "execution_count": 45,
      "outputs": [
        {
          "output_type": "display_data",
          "data": {
            "image/png": "[encoded data removed]",
            "text/plain": [
              "<Figure size 432x288 with 1 Axes>"
            ]
          },
          "metadata": {
            "tags": [],
            "needs_background": "light"
          }
        }
      ]
    },
    {
      "cell_type": "code",
      "metadata": {
        "id": "Eupmy3z-eh3e",
        "colab_type": "code",
        "colab": {
          "base_uri": "https://localhost:8080/",
          "height": 366
        },
        "outputId": "addeb745-8d98-462d-edfb-e86fd701c99a"
      },
      "source": [
        "fig = plt.figure()\n",
        "ax = fig.add_axes([0,0,1,1])\n",
        "features = dfs_15[1]['features']\n",
        "score = dfs_15[1]['score']\n",
        "ax.bar(features,score,color='k')\n",
        "ax.set_xlabel('Features')\n",
        "ax.set_ylabel('Score')\n",
        "ax.set_title('Top 15 words in Cluster 1')\n",
        "plt.show()"
      ],
      "execution_count": 46,
      "outputs": [
        {
          "output_type": "display_data",
          "data": {
            "image/png": "[encoded data removed]",
            "text/plain": [
              "<Figure size 432x288 with 1 Axes>"
            ]
          },
          "metadata": {
            "tags": [],
            "needs_background": "light"
          }
        }
      ]
    },
    {
      "cell_type": "code",
      "metadata": {
        "id": "k0Aq2hs7g6e9",
        "colab_type": "code",
        "colab": {
          "base_uri": "https://localhost:8080/",
          "height": 366
        },
        "outputId": "9d6c9e96-4a8b-45c8-a7fe-bb166e0decc8"
      },
      "source": [
        "fig = plt.figure()\n",
        "ax = fig.add_axes([0,0,1,1])\n",
        "features = dfs_15[2]['features']\n",
        "score = dfs_15[2]['score']\n",
        "ax.bar(features,score,color='k')\n",
        "ax.set_xlabel('Features')\n",
        "ax.set_ylabel('Score')\n",
        "ax.set_title('Top 15 words in Cluster 2')\n",
        "plt.show()"
      ],
      "execution_count": 47,
      "outputs": [
        {
          "output_type": "display_data",
          "data": {
            "image/png": "[encoded data removed]",
            "text/plain": [
              "<Figure size 432x288 with 1 Axes>"
            ]
          },
          "metadata": {
            "tags": [],
            "needs_background": "light"
          }
        }
      ]
    },
    {
      "cell_type": "markdown",
      "metadata": {
        "id": "8bpnWwkmQIO6",
        "colab_type": "text"
      },
      "source": [
        "It seems like Cluster 1 is focused on the topic of tea and Cluster 2 puts most of its attention to coffee. There is no dominant word in Cluster 0, and Cluster 0 is probably composed of other food."
      ]
    },
    {
      "cell_type": "code",
      "metadata": {
        "id": "kQPkup1dwGSN",
        "colab_type": "code",
        "colab": {
          "base_uri": "https://localhost:8080/",
          "height": 126
        },
        "outputId": "d30f4919-69c8-4efd-e1a9-11f8efd66c09"
      },
      "source": [
        "df0 = pd.concat(dfs_5,ignore_index=True)\n",
        "df0.sort_values(\"score\", ascending=False, inplace = True) \n",
        "X_top_5 = df0.drop_duplicates(['features'],keep= 'first').nlargest(5,'score').reset_index()['features']\n",
        "X_top_5"
      ],
      "execution_count": 77,
      "outputs": [
        {
          "output_type": "execute_result",
          "data": {
            "text/plain": [
              "0       tea\n",
              "1    coffee\n",
              "2       cup\n",
              "3      like\n",
              "4    flavor\n",
              "Name: features, dtype: object"
            ]
          },
          "metadata": {
            "tags": []
          },
          "execution_count": 77
        }
      ]
    },
    {
      "cell_type": "code",
      "metadata": {
        "id": "qjX1Y91nvkCR",
        "colab_type": "code",
        "colab": {
          "base_uri": "https://localhost:8080/",
          "height": 308
        },
        "outputId": "abdbe3c6-72f7-4861-90f0-a8ac04e04289"
      },
      "source": [
        "df1 = pd.concat(dfs_15,ignore_index=True)\n",
        "df1.sort_values(\"score\", ascending=False, inplace = True) \n",
        "X_top_15 = df1.drop_duplicates(['features'],keep= 'first').nlargest(15,'score').reset_index()['features']\n",
        "X_top_15"
      ],
      "execution_count": 27,
      "outputs": [
        {
          "output_type": "execute_result",
          "data": {
            "text/plain": [
              "0         tea\n",
              "1      coffee\n",
              "2         cup\n",
              "3        like\n",
              "4      flavor\n",
              "5        good\n",
              "6     product\n",
              "7       great\n",
              "8       taste\n",
              "9        love\n",
              "10       just\n",
              "11      drink\n",
              "12       food\n",
              "13       best\n",
              "14     really\n",
              "Name: features, dtype: object"
            ]
          },
          "metadata": {
            "tags": []
          },
          "execution_count": 27
        }
      ]
    },
    {
      "cell_type": "code",
      "metadata": {
        "id": "0kB7bmnTyBp6",
        "colab_type": "code",
        "colab": {
          "base_uri": "https://localhost:8080/",
          "height": 581
        },
        "outputId": "f7fafa4e-ea40-4e7d-f070-c8b64932d054"
      },
      "source": [
        "df2 = pd.concat(dfs_30,ignore_index=True)\n",
        "df2.sort_values(\"score\", ascending=False, inplace = True) \n",
        "X_top_30 = df2.drop_duplicates(['features'],keep= 'first').nlargest(30,'score').reset_index()['features']\n",
        "X_top_30"
      ],
      "execution_count": 28,
      "outputs": [
        {
          "output_type": "execute_result",
          "data": {
            "text/plain": [
              "0           tea\n",
              "1        coffee\n",
              "2           cup\n",
              "3          like\n",
              "4        flavor\n",
              "5          good\n",
              "6       product\n",
              "7         great\n",
              "8         taste\n",
              "9          love\n",
              "10         just\n",
              "11        drink\n",
              "12         food\n",
              "13         best\n",
              "14       really\n",
              "15          dog\n",
              "16          buy\n",
              "17       little\n",
              "18         dont\n",
              "19        price\n",
              "20        tried\n",
              "21          eat\n",
              "22          use\n",
              "23     favorite\n",
              "24         time\n",
              "25       amazon\n",
              "26       better\n",
              "27    chocolate\n",
              "28        loves\n",
              "29         make\n",
              "Name: features, dtype: object"
            ]
          },
          "metadata": {
            "tags": []
          },
          "execution_count": 28
        }
      ]
    },
    {
      "cell_type": "code",
      "metadata": {
        "id": "uXRjjT0P3ohZ",
        "colab_type": "code",
        "colab": {
          "base_uri": "https://localhost:8080/",
          "height": 854
        },
        "outputId": "3058563a-4f93-4144-a639-4a3638f9bbb0"
      },
      "source": [
        "df3 = pd.concat(dfs_45,ignore_index=True)\n",
        "df3.sort_values(\"score\", ascending=False, inplace = True) \n",
        "X_top_45 = df3.drop_duplicates(['features'],keep= 'first').nlargest(45,'score').reset_index()['features']\n",
        "X_top_45"
      ],
      "execution_count": 29,
      "outputs": [
        {
          "output_type": "execute_result",
          "data": {
            "text/plain": [
              "0           tea\n",
              "1        coffee\n",
              "2           cup\n",
              "3          like\n",
              "4        flavor\n",
              "5          good\n",
              "6       product\n",
              "7         great\n",
              "8         taste\n",
              "9          love\n",
              "10         just\n",
              "11        drink\n",
              "12         food\n",
              "13         best\n",
              "14       really\n",
              "15          dog\n",
              "16          buy\n",
              "17       little\n",
              "18         dont\n",
              "19        price\n",
              "20        tried\n",
              "21          eat\n",
              "22          use\n",
              "23     favorite\n",
              "24         time\n",
              "25       amazon\n",
              "26       better\n",
              "27    chocolate\n",
              "28        loves\n",
              "29         make\n",
              "30          ive\n",
              "31           im\n",
              "32       tastes\n",
              "33          try\n",
              "34       bought\n",
              "35         used\n",
              "36        sweet\n",
              "37          bag\n",
              "38    delicious\n",
              "39         nice\n",
              "40        snack\n",
              "41        order\n",
              "42          day\n",
              "43        water\n",
              "44        sugar\n",
              "Name: features, dtype: object"
            ]
          },
          "metadata": {
            "tags": []
          },
          "execution_count": 29
        }
      ]
    },
    {
      "cell_type": "markdown",
      "metadata": {
        "id": "mXiZxrP48LhU",
        "colab_type": "text"
      },
      "source": [
        "# **BERT model (Score Prediction)**"
      ]
    },
    {
      "cell_type": "markdown",
      "metadata": {
        "id": "bULwbbE6d1zK",
        "colab_type": "text"
      },
      "source": [
        "Reference:\n",
        "https://www.tensorflow.org/official_models/fine_tuning_bert"
      ]
    },
    {
      "cell_type": "markdown",
      "metadata": {
        "id": "YK6s5PCFCz66",
        "colab_type": "text"
      },
      "source": [
        "We want to build a model that predicts score based on summary and text."
      ]
    },
    {
      "cell_type": "markdown",
      "metadata": {
        "id": "0XClcPCrxLUb",
        "colab_type": "text"
      },
      "source": [
        "## **Data for BERT**"
      ]
    },
    {
      "cell_type": "code",
      "metadata": {
        "id": "BN_7_2vQQd5h",
        "colab_type": "code",
        "colab": {}
      },
      "source": [
        "X_s = df['Summary']\n",
        "X_t = df['Text']\n",
        "y = df['Score']"
      ],
      "execution_count": 30,
      "outputs": []
    },
    {
      "cell_type": "code",
      "metadata": {
        "id": "uibrbelKQpgD",
        "colab_type": "code",
        "colab": {}
      },
      "source": [
        "# Encode class values as integers\n",
        "label_encoder = LabelEncoder().fit(df['Score'])\n",
        "y_train_val = label_encoder.fit_transform(df['Score'])"
      ],
      "execution_count": 31,
      "outputs": []
    },
    {
      "cell_type": "markdown",
      "metadata": {
        "id": "-VKMLPMECqr9",
        "colab_type": "text"
      },
      "source": [
        "Split the data into training, validation, and test sets."
      ]
    },
    {
      "cell_type": "code",
      "metadata": {
        "id": "lvEYwrSIS8Cy",
        "colab_type": "code",
        "colab": {}
      },
      "source": [
        "X_s_train_val, X_s_test, X_t_train_val, X_t_test, y_train_val, y_test = train_test_split(\n",
        "        X_s, X_t, y, test_size=0.2, random_state=0, stratify = y_train_val\n",
        "        )"
      ],
      "execution_count": 32,
      "outputs": []
    },
    {
      "cell_type": "code",
      "metadata": {
        "id": "X7sb8GE0TTef",
        "colab_type": "code",
        "colab": {}
      },
      "source": [
        "X_s_train, X_s_val, X_t_train, X_t_val, y_train, y_val = train_test_split(\n",
        "        X_s_train_val, X_t_train_val, y_train_val, test_size=0.2, random_state=0, stratify = y_train_val\n",
        "        )"
      ],
      "execution_count": 33,
      "outputs": []
    },
    {
      "cell_type": "markdown",
      "metadata": {
        "id": "tEiBHpLnMlWH",
        "colab_type": "text"
      },
      "source": [
        "## **The BERT tokenizer**"
      ]
    },
    {
      "cell_type": "code",
      "metadata": {
        "id": "Q25tvLE7UH3K",
        "colab_type": "code",
        "colab": {
          "base_uri": "https://localhost:8080/",
          "height": 90
        },
        "outputId": "57efa5fc-f95a-4c12-b825-52dabe25143e"
      },
      "source": [
        "# This directory contains the configuration, vocabulary, and a pre-trained checkpoint used in this notebook\n",
        "gs_folder_bert = \"gs://cloud-tpu-checkpoints/bert/keras_bert/uncased_L-12_H-768_A-12\"\n",
        "tf.io.gfile.listdir(gs_folder_bert)"
      ],
      "execution_count": 34,
      "outputs": [
        {
          "output_type": "execute_result",
          "data": {
            "text/plain": [
              "['bert_config.json',\n",
              " 'bert_model.ckpt.data-00000-of-00001',\n",
              " 'bert_model.ckpt.index',\n",
              " 'vocab.txt']"
            ]
          },
          "metadata": {
            "tags": []
          },
          "execution_count": 34
        }
      ]
    },
    {
      "cell_type": "code",
      "metadata": {
        "id": "DRn_SEcIUM3y",
        "colab_type": "code",
        "colab": {
          "base_uri": "https://localhost:8080/",
          "height": 35
        },
        "outputId": "82a3678e-c0d6-46a4-bcb1-c5addf1ab0a9"
      },
      "source": [
        "# Set up tokenizer to generate Tensorflow dataset\n",
        "tokenizer = bert.tokenization.FullTokenizer(\n",
        "    vocab_file=os.path.join(gs_folder_bert, \"vocab.txt\"),\n",
        "     do_lower_case=True)\n",
        "\n",
        "print(\"Vocab size:\", len(tokenizer.vocab))"
      ],
      "execution_count": 35,
      "outputs": [
        {
          "output_type": "stream",
          "text": [
            "Vocab size: 30522\n"
          ],
          "name": "stdout"
        }
      ]
    },
    {
      "cell_type": "code",
      "metadata": {
        "id": "U_uxLwIFUYY5",
        "colab_type": "code",
        "colab": {}
      },
      "source": [
        "def encode_sentence(s,tokenizer,max_seq_len):\n",
        "  tokens = tokenizer.tokenize(s)\n",
        "  tokens = tokens[:max_seq_len]\n",
        "  tokens.append('[SEP]')\n",
        "  return tokenizer.convert_tokens_to_ids(tokens)"
      ],
      "execution_count": 36,
      "outputs": []
    },
    {
      "cell_type": "code",
      "metadata": {
        "id": "9cQXdVR2Ua3x",
        "colab_type": "code",
        "colab": {}
      },
      "source": [
        "def bert_encode(X_s, X_t, tokenizer,max_seq_len):\n",
        "  num_examples = len(X_s)\n",
        "  \n",
        "  summary = tf.ragged.constant([\n",
        "      encode_sentence(s, tokenizer,max_seq_len)\n",
        "      for s in np.array(X_s)])\n",
        "  \n",
        "  text = tf.ragged.constant([\n",
        "      encode_sentence(s, tokenizer,max_seq_len)\n",
        "       for s in np.array(X_t)])\n",
        "  \n",
        "  cls = [tokenizer.convert_tokens_to_ids(['[CLS]'])]*summary.shape[0]\n",
        "\n",
        "  input_word_ids = tf.concat([cls, summary, text], axis=-1)\n",
        "  input_mask = tf.ones_like(input_word_ids).to_tensor()\n",
        "  type_cls = tf.zeros_like(cls)\n",
        "  type_summary = tf.zeros_like(summary)\n",
        "  type_text = tf.ones_like(text)\n",
        "  input_type_ids = tf.concat(\n",
        "      [type_cls, type_summary, type_text], axis=-1).to_tensor()\n",
        "  inputs = {\n",
        "      'input_word_ids': input_word_ids.to_tensor(),\n",
        "      'input_mask': input_mask,\n",
        "      'input_type_ids': input_type_ids}\n",
        "\n",
        "  return inputs"
      ],
      "execution_count": 37,
      "outputs": []
    },
    {
      "cell_type": "code",
      "metadata": {
        "id": "bIKXDkRrbNLr",
        "colab_type": "code",
        "colab": {}
      },
      "source": [
        "# The maximum embedding length of BERT is 512, so we need to truncate the input sequence using the parameter \"max_seq_len\"\n",
        "X_train = bert_encode(X_s_train, X_t_train, tokenizer,400)\n",
        "X_val = bert_encode(X_s_val, X_t_val, tokenizer,400)\n",
        "X_test = bert_encode(X_s_test, X_t_test, tokenizer,400)"
      ],
      "execution_count": null,
      "outputs": []
    },
    {
      "cell_type": "code",
      "metadata": {
        "id": "ilCPv2jtbU5L",
        "colab_type": "code",
        "colab": {
          "base_uri": "https://localhost:8080/",
          "height": 199
        },
        "outputId": "b6b4e4f2-4123-46be-a658-751ea02c320d"
      },
      "source": [
        "# Check the size of X tensors\n",
        "for key, value in X_train.items():\n",
        "  print(f'{key:15s} shape: {value.shape}')\n",
        "for key, value in X_val.items():\n",
        "  print(f'{key:15s} shape: {value.shape}')\n",
        "for key, value in X_test.items():\n",
        "  print(f'{key:15s} shape: {value.shape}')\n",
        "print(f'train_labels shape: {y_train.shape}')"
      ],
      "execution_count": null,
      "outputs": [
        {
          "output_type": "stream",
          "text": [
            "input_word_ids  shape: (363782, 490)\n",
            "input_mask      shape: (363782, 490)\n",
            "input_type_ids  shape: (363782, 490)\n",
            "input_word_ids  shape: (90946, 468)\n",
            "input_mask      shape: (90946, 468)\n",
            "input_type_ids  shape: (90946, 468)\n",
            "input_word_ids  shape: (113683, 463)\n",
            "input_mask      shape: (113683, 463)\n",
            "input_type_ids  shape: (113683, 463)\n",
            "train_labels shape: (363782,)\n"
          ],
          "name": "stdout"
        }
      ]
    },
    {
      "cell_type": "code",
      "metadata": {
        "id": "aSQ2nH0RB2sz",
        "colab_type": "code",
        "colab": {}
      },
      "source": [
        "# padding with zeros\n",
        "d1 = 512 - X_train['input_mask'].shape[1]\n",
        "d2 = 512 - X_val['input_mask'].shape[1]\n",
        "d3 = 512 - X_test['input_mask'].shape[1]\n",
        "\n",
        "X_train_tokens = X_train\n",
        "X_val_tokens = X_val\n",
        "X_test_tokens = X_test\n",
        "\n",
        "paddings_1 = tf.constant([[0, 0,], [0, d1]])\n",
        "X_train_tokens['input_mask'] = tf.pad(X_train_tokens['input_mask'], paddings_1, \"CONSTANT\")\n",
        "X_train_tokens['input_type_ids'] = tf.pad(X_train_tokens['input_type_ids'], paddings_1, \"CONSTANT\")\n",
        "X_train_tokens['input_word_ids'] = tf.pad(X_train_tokens['input_word_ids'], paddings_1, \"CONSTANT\")\n",
        "\n",
        "\n",
        "paddings_2 = tf.constant([[0, 0,], [0, d2]])\n",
        "X_val_tokens['input_mask'] = tf.pad(X_val_tokens['input_mask'], paddings_2, \"CONSTANT\")\n",
        "X_val_tokens['input_type_ids'] = tf.pad(X_val_tokens['input_type_ids'], paddings_2, \"CONSTANT\")\n",
        "X_val_tokens['input_word_ids'] = tf.pad(X_val_tokens['input_word_ids'], paddings_2, \"CONSTANT\")\n",
        "\n",
        "paddings_3 = tf.constant([[0, 0,], [0, d3]])\n",
        "X_test_tokens['input_mask'] = tf.pad(X_test_tokens['input_mask'], paddings_3, \"CONSTANT\")\n",
        "X_test_tokens['input_type_ids'] = tf.pad(X_test_tokens['input_type_ids'], paddings_3, \"CONSTANT\")\n",
        "X_test_tokens['input_word_ids'] = tf.pad(X_test_tokens['input_word_ids'], paddings_3, \"CONSTANT\")"
      ],
      "execution_count": null,
      "outputs": []
    },
    {
      "cell_type": "code",
      "metadata": {
        "id": "DIIBS1DkBbQz",
        "colab_type": "code",
        "colab": {
          "base_uri": "https://localhost:8080/",
          "height": 199
        },
        "outputId": "b07ae6a2-be2a-4fba-e938-a22d681024a1"
      },
      "source": [
        "# Check the size of X tensors\n",
        "for key, value in X_train_tokens.items():\n",
        "  print(f'{key:15s} shape: {value.shape}')\n",
        "for key, value in X_val_tokens.items():\n",
        "  print(f'{key:15s} shape: {value.shape}')\n",
        "for key, value in X_test_tokens.items():\n",
        "  print(f'{key:15s} shape: {value.shape}')\n",
        "print(f'train_labels shape: {y_train.shape}')"
      ],
      "execution_count": null,
      "outputs": [
        {
          "output_type": "stream",
          "text": [
            "input_word_ids  shape: (363782, 512)\n",
            "input_mask      shape: (363782, 512)\n",
            "input_type_ids  shape: (363782, 512)\n",
            "input_word_ids  shape: (90946, 512)\n",
            "input_mask      shape: (90946, 512)\n",
            "input_type_ids  shape: (90946, 512)\n",
            "input_word_ids  shape: (113683, 512)\n",
            "input_mask      shape: (113683, 512)\n",
            "input_type_ids  shape: (113683, 512)\n",
            "train_labels shape: (363782,)\n"
          ],
          "name": "stdout"
        }
      ]
    },
    {
      "cell_type": "markdown",
      "metadata": {
        "id": "rx4L9ignPqOe",
        "colab_type": "text"
      },
      "source": [
        "## **Build the model**"
      ]
    },
    {
      "cell_type": "code",
      "metadata": {
        "id": "l6YY_Dcfb5LY",
        "colab_type": "code",
        "colab": {
          "base_uri": "https://localhost:8080/",
          "height": 217
        },
        "outputId": "1a42e925-2c4f-459e-d8ec-571dd926b87a"
      },
      "source": [
        "# Download the configuration for the pre-trained model.\n",
        "bert_config_file = os.path.join(gs_folder_bert, \"bert_config.json\")\n",
        "config_dict = json.loads(tf.io.gfile.GFile(bert_config_file).read())\n",
        "bert_config = bert.configs.BertConfig.from_dict(config_dict)\n",
        "\n",
        "config_dict"
      ],
      "execution_count": null,
      "outputs": [
        {
          "output_type": "execute_result",
          "data": {
            "text/plain": [
              "{'attention_probs_dropout_prob': 0.1,\n",
              " 'hidden_act': 'gelu',\n",
              " 'hidden_dropout_prob': 0.1,\n",
              " 'hidden_size': 768,\n",
              " 'initializer_range': 0.02,\n",
              " 'intermediate_size': 3072,\n",
              " 'max_position_embeddings': 512,\n",
              " 'num_attention_heads': 12,\n",
              " 'num_hidden_layers': 12,\n",
              " 'type_vocab_size': 2,\n",
              " 'vocab_size': 30522}"
            ]
          },
          "metadata": {
            "tags": []
          },
          "execution_count": 44
        }
      ]
    },
    {
      "cell_type": "code",
      "metadata": {
        "id": "SgesL9RDb6Y2",
        "colab_type": "code",
        "colab": {
          "base_uri": "https://localhost:8080/",
          "height": 255
        },
        "outputId": "58ee4498-ebc3-43dd-b52e-aa01c21d42af"
      },
      "source": [
        "with tpu_strategy.scope():\n",
        "    bert_classifier, bert_encoder = bert.bert_models.classifier_model(\n",
        "    bert_config, num_labels=3,max_seq_length=None)"
      ],
      "execution_count": null,
      "outputs": [
        {
          "output_type": "stream",
          "text": [
            "WARNING:tensorflow:BertClassifier inputs must come from `tf.keras.Input` (thus holding past layer metadata), they cannot be the output of a previous non-Input layer. Here, a tensor specified as input to \"bert_classifier\" was not an Input tensor, it was generated by layer input_mask.\n",
            "Note that input tensors are instantiated via `tensor = tf.keras.Input(shape)`.\n",
            "The tensor that caused the issue was: input_mask:0\n"
          ],
          "name": "stdout"
        },
        {
          "output_type": "stream",
          "text": [
            "WARNING:tensorflow:BertClassifier inputs must come from `tf.keras.Input` (thus holding past layer metadata), they cannot be the output of a previous non-Input layer. Here, a tensor specified as input to \"bert_classifier\" was not an Input tensor, it was generated by layer input_mask.\n",
            "Note that input tensors are instantiated via `tensor = tf.keras.Input(shape)`.\n",
            "The tensor that caused the issue was: input_mask:0\n"
          ],
          "name": "stderr"
        },
        {
          "output_type": "stream",
          "text": [
            "WARNING:tensorflow:BertClassifier inputs must come from `tf.keras.Input` (thus holding past layer metadata), they cannot be the output of a previous non-Input layer. Here, a tensor specified as input to \"bert_classifier\" was not an Input tensor, it was generated by layer input_type_ids.\n",
            "Note that input tensors are instantiated via `tensor = tf.keras.Input(shape)`.\n",
            "The tensor that caused the issue was: input_type_ids:0\n"
          ],
          "name": "stdout"
        },
        {
          "output_type": "stream",
          "text": [
            "WARNING:tensorflow:BertClassifier inputs must come from `tf.keras.Input` (thus holding past layer metadata), they cannot be the output of a previous non-Input layer. Here, a tensor specified as input to \"bert_classifier\" was not an Input tensor, it was generated by layer input_type_ids.\n",
            "Note that input tensors are instantiated via `tensor = tf.keras.Input(shape)`.\n",
            "The tensor that caused the issue was: input_type_ids:0\n"
          ],
          "name": "stderr"
        }
      ]
    },
    {
      "cell_type": "code",
      "metadata": {
        "id": "Vvxso4jeb8FJ",
        "colab_type": "code",
        "colab": {
          "base_uri": "https://localhost:8080/",
          "height": 310
        },
        "outputId": "9eab2e38-6777-441e-ee1a-1040e894ee4e"
      },
      "source": [
        "tf.keras.utils.plot_model(bert_classifier, show_shapes=False, dpi=80)"
      ],
      "execution_count": null,
      "outputs": [
        {
          "output_type": "execute_result",
          "data": {
            "image/png": "[encoded data removed]",
            "text/plain": [
              "<IPython.core.display.Image object>"
            ]
          },
          "metadata": {
            "tags": []
          },
          "execution_count": 46
        }
      ]
    },
    {
      "cell_type": "code",
      "metadata": {
        "id": "1HOykbxfcJeT",
        "colab_type": "code",
        "colab": {
          "base_uri": "https://localhost:8080/",
          "height": 1000
        },
        "outputId": "619ab7e9-0971-4bc0-8b7e-9bda65302df0"
      },
      "source": [
        "tf.keras.utils.plot_model(bert_encoder, show_shapes=False, dpi=80)"
      ],
      "execution_count": null,
      "outputs": [
        {
          "output_type": "execute_result",
          "data": {
            "image/png": "[encoded data removed]",
            "text/plain": [
              "<IPython.core.display.Image object>"
            ]
          },
          "metadata": {
            "tags": []
          },
          "execution_count": 47
        }
      ]
    },
    {
      "cell_type": "code",
      "metadata": {
        "id": "n-wMmw42cKlk",
        "colab_type": "code",
        "colab": {
          "base_uri": "https://localhost:8080/",
          "height": 417
        },
        "outputId": "4312a83e-ca37-469a-d953-1153f6dfc7d5"
      },
      "source": [
        "bert_classifier.summary()"
      ],
      "execution_count": null,
      "outputs": [
        {
          "output_type": "stream",
          "text": [
            "Model: \"bert_classifier\"\n",
            "__________________________________________________________________________________________________\n",
            "Layer (type)                    Output Shape         Param #     Connected to                     \n",
            "==================================================================================================\n",
            "input_word_ids (InputLayer)     [(None, None)]       0                                            \n",
            "__________________________________________________________________________________________________\n",
            "input_mask (InputLayer)         [(None, None)]       0                                            \n",
            "__________________________________________________________________________________________________\n",
            "input_type_ids (InputLayer)     [(None, None)]       0                                            \n",
            "__________________________________________________________________________________________________\n",
            "transformer_encoder (Transforme [(None, None, 768),  109482240   input_word_ids[0][0]             \n",
            "                                                                 input_mask[0][0]                 \n",
            "                                                                 input_type_ids[0][0]             \n",
            "__________________________________________________________________________________________________\n",
            "dropout_1 (Dropout)             (None, 768)          0           transformer_encoder[1][1]        \n",
            "__________________________________________________________________________________________________\n",
            "classification (Classification) (None, 3)            2307        dropout_1[0][0]                  \n",
            "==================================================================================================\n",
            "Total params: 109,484,547\n",
            "Trainable params: 109,484,547\n",
            "Non-trainable params: 0\n",
            "__________________________________________________________________________________________________\n"
          ],
          "name": "stdout"
        }
      ]
    },
    {
      "cell_type": "markdown",
      "metadata": {
        "id": "cezo733yQZZa",
        "colab_type": "text"
      },
      "source": [
        "## **Train the model**"
      ]
    },
    {
      "cell_type": "code",
      "metadata": {
        "id": "ntK-4dmqcXv4",
        "colab_type": "code",
        "colab": {
          "base_uri": "https://localhost:8080/",
          "height": 35
        },
        "outputId": "61fd7968-aa7a-470f-eaa0-1f61ccd83676"
      },
      "source": [
        "# Restore the encoder's weights from the checkpoint\n",
        "checkpoint = tf.train.Checkpoint(model=bert_encoder)\n",
        "checkpoint.restore(\n",
        "    os.path.join(gs_folder_bert, 'bert_model.ckpt')).assert_consumed()"
      ],
      "execution_count": null,
      "outputs": [
        {
          "output_type": "execute_result",
          "data": {
            "text/plain": [
              "<tensorflow.python.training.tracking.util.CheckpointLoadStatus at 0x7fb26c786fd0>"
            ]
          },
          "metadata": {
            "tags": []
          },
          "execution_count": 96
        }
      ]
    },
    {
      "cell_type": "code",
      "metadata": {
        "id": "PtVEP_VAcY2x",
        "colab_type": "code",
        "colab": {}
      },
      "source": [
        "# Set up epochs and steps\n",
        "# epoch = 2,3\n",
        "# batch_size = 32, 64\n",
        "# learning rate = 2e-5 to 1e-4\n",
        "\n",
        "epochs = 2\n",
        "batch_size = 64\n",
        "eval_batch_size = 64\n",
        "\n",
        "train_data_size = len(y_train)\n",
        "steps_per_epoch = int(train_data_size / batch_size)\n",
        "num_train_steps = steps_per_epoch * epochs\n",
        "warmup_steps = int(epochs * train_data_size * 0.1 / batch_size)\n",
        "\n",
        "# creates an optimizer with learning rate schedule\n",
        "optimizer = nlp.optimization.create_optimizer(\n",
        "    8e-5, num_train_steps=num_train_steps, num_warmup_steps=warmup_steps)"
      ],
      "execution_count": null,
      "outputs": []
    },
    {
      "cell_type": "code",
      "metadata": {
        "id": "hDbPoKqccbxL",
        "colab_type": "code",
        "colab": {
          "base_uri": "https://localhost:8080/",
          "height": 90
        },
        "outputId": "9b727cbb-6862-43d5-eadd-4b6965ce1917"
      },
      "source": [
        "with tpu_strategy.scope():\n",
        "  metrics = [tf.keras.metrics.SparseCategoricalAccuracy('accuracy', dtype=tf.float32)]\n",
        "  loss = tf.keras.losses.SparseCategoricalCrossentropy(from_logits=True)\n",
        "\n",
        "  bert_classifier.compile(\n",
        "      optimizer=optimizer,\n",
        "      loss=loss,\n",
        "      metrics=metrics)\n",
        "\n",
        "with tpu_strategy.scope():\n",
        "  history = bert_classifier.fit(\n",
        "      X_train_tokens, y_train,\n",
        "      validation_data=(X_val_tokens, y_val),\n",
        "      batch_size=64,\n",
        "      epochs=epochs)"
      ],
      "execution_count": null,
      "outputs": [
        {
          "output_type": "stream",
          "text": [
            "Epoch 1/2\n",
            "5685/5685 [==============================] - 1500s 264ms/step - loss: 0.2280 - accuracy: 0.9110 - val_loss: 0.1785 - val_accuracy: 0.9347\n",
            "Epoch 2/2\n",
            "5685/5685 [==============================] - 1468s 258ms/step - loss: 0.1285 - accuracy: 0.9536 - val_loss: 0.1496 - val_accuracy: 0.9469\n"
          ],
          "name": "stdout"
        }
      ]
    },
    {
      "cell_type": "code",
      "metadata": {
        "id": "Z0EVbazachAv",
        "colab_type": "code",
        "colab": {
          "base_uri": "https://localhost:8080/",
          "height": 295
        },
        "outputId": "2ef4d426-1955-4733-acb0-09ea4add7b13"
      },
      "source": [
        "plt.plot(history.history['accuracy'])\n",
        "plt.plot(history.history['val_accuracy'])\n",
        "plt.title('model accuracy')\n",
        "plt.ylabel('Accuracy')\n",
        "plt.xlabel('Epoch')\n",
        "plt.legend(['train', 'test'], loc='upper left')\n",
        "plt.show()"
      ],
      "execution_count": null,
      "outputs": [
        {
          "output_type": "display_data",
          "data": {
            "image/png": "[encoded data removed]",
            "text/plain": [
              "<Figure size 432x288 with 1 Axes>"
            ]
          },
          "metadata": {
            "tags": [],
            "needs_background": "light"
          }
        }
      ]
    },
    {
      "cell_type": "code",
      "metadata": {
        "id": "q1cRTuwdckkH",
        "colab_type": "code",
        "colab": {
          "base_uri": "https://localhost:8080/",
          "height": 295
        },
        "outputId": "3f8b7057-ec7f-4fab-bb8e-33647a4303ae"
      },
      "source": [
        "plt.plot(history.history['loss'])\n",
        "plt.plot(history.history['val_loss'])\n",
        "plt.title('model loss')\n",
        "plt.ylabel('loss')\n",
        "plt.xlabel('epoch')\n",
        "plt.legend(['train', 'test'], loc='upper left')\n",
        "plt.show()"
      ],
      "execution_count": null,
      "outputs": [
        {
          "output_type": "display_data",
          "data": {
            "image/png": "[encoded data removed]",
            "text/plain": [
              "<Figure size 432x288 with 1 Axes>"
            ]
          },
          "metadata": {
            "tags": [],
            "needs_background": "light"
          }
        }
      ]
    },
    {
      "cell_type": "markdown",
      "metadata": {
        "id": "-iFFPZvOo1mu",
        "colab_type": "text"
      },
      "source": [
        "## **Prediction**"
      ]
    },
    {
      "cell_type": "code",
      "metadata": {
        "id": "nVkb4M6RcsDH",
        "colab_type": "code",
        "colab": {}
      },
      "source": [
        "preds = bert_classifier.predict(X_test_tokens)"
      ],
      "execution_count": null,
      "outputs": []
    },
    {
      "cell_type": "code",
      "metadata": {
        "id": "rv20Xkrsc4wf",
        "colab_type": "code",
        "colab": {
          "base_uri": "https://localhost:8080/",
          "height": 35
        },
        "outputId": "0302defd-b8c8-468e-af62-4b0d200900a8"
      },
      "source": [
        "m = tf.keras.metrics.SparseCategoricalAccuracy()\n",
        "m.update_state(\n",
        "    y_test, preds, sample_weight=None\n",
        ")\n",
        "print(\"Accuracy:{}\".format(m.result().numpy()))"
      ],
      "execution_count": null,
      "outputs": [
        {
          "output_type": "stream",
          "text": [
            "Accuracy:0.9457966685295105\n"
          ],
          "name": "stdout"
        }
      ]
    },
    {
      "cell_type": "code",
      "metadata": {
        "id": "cJzI87PXSx2u",
        "colab_type": "code",
        "colab": {}
      },
      "source": [
        "outputs = [np.argmax(p, axis = -1) for p in preds]"
      ],
      "execution_count": 75,
      "outputs": []
    },
    {
      "cell_type": "code",
      "metadata": {
        "id": "Zftlh3JjSV0V",
        "colab_type": "code",
        "colab": {
          "base_uri": "https://localhost:8080/",
          "height": 72
        },
        "outputId": "3de825f5-81f3-4c4f-bcb3-d47a9147096d"
      },
      "source": [
        "from sklearn.metrics import confusion_matrix\n",
        "confusion_matrix(y_test, outputs)"
      ],
      "execution_count": null,
      "outputs": [
        {
          "output_type": "execute_result",
          "data": {
            "text/plain": [
              "array([[14826,  1110,   465],\n",
              "       [ 1404,  5510,  1614],\n",
              "       [  457,  1112, 87185]])"
            ]
          },
          "metadata": {
            "tags": []
          },
          "execution_count": 58
        }
      ]
    },
    {
      "cell_type": "code",
      "metadata": {
        "id": "k6SxEp3kTJBe",
        "colab_type": "code",
        "colab": {
          "base_uri": "https://localhost:8080/",
          "height": 35
        },
        "outputId": "617fc5af-c242-472d-cda2-e6aa7335e064"
      },
      "source": [
        "from sklearn.metrics import accuracy_score\n",
        "accuracy_score(y_test, outputs)"
      ],
      "execution_count": null,
      "outputs": [
        {
          "output_type": "execute_result",
          "data": {
            "text/plain": [
              "0.9457966450568687"
            ]
          },
          "metadata": {
            "tags": []
          },
          "execution_count": 59
        }
      ]
    },
    {
      "cell_type": "markdown",
      "metadata": {
        "id": "ZTWU9CgePgaf",
        "colab_type": "text"
      },
      "source": [
        "# **BERT model with additional features**"
      ]
    },
    {
      "cell_type": "code",
      "metadata": {
        "id": "YA1XfupXPsvF",
        "colab_type": "code",
        "colab": {}
      },
      "source": [
        "# Create a copy of the tokenizer\n",
        "import copy\n",
        "tokenizer0 = copy.deepcopy(tokenizer)\n",
        "tokenizer1 = copy.deepcopy(tokenizer)\n",
        "tokenizer2 = copy.deepcopy(tokenizer)\n",
        "tokenizer3 = copy.deepcopy(tokenizer)"
      ],
      "execution_count": 79,
      "outputs": []
    },
    {
      "cell_type": "code",
      "metadata": {
        "id": "E0La2LmYSYbj",
        "colab_type": "code",
        "colab": {}
      },
      "source": [
        "# Modify the vacabulary of BERT by replacing the unused tokens with the top 15 words obtained from K-Means Clustering\n",
        "# Here the keys '[unused0]','[unused1]',......,'[unused14]' are replaced\n",
        "for i in range(15):\n",
        "  tokenizer1.vocab[X_top_15[i]] = tokenizer1.vocab.pop('[unused'+str(i)+']')"
      ],
      "execution_count": 39,
      "outputs": []
    },
    {
      "cell_type": "code",
      "metadata": {
        "id": "yeybaY9NwStf",
        "colab_type": "code",
        "colab": {}
      },
      "source": [
        "for i in range(5):\n",
        "  tokenizer0.vocab[X_top_5[i]] = tokenizer0.vocab.pop('[unused'+str(i)+']')"
      ],
      "execution_count": 80,
      "outputs": []
    },
    {
      "cell_type": "code",
      "metadata": {
        "id": "r-5Nbt1OvyIE",
        "colab_type": "code",
        "colab": {}
      },
      "source": [
        "for i in range(30):\n",
        "  tokenizer2.vocab[X_top_30[i]] = tokenizer2.vocab.pop('[unused'+str(i)+']')"
      ],
      "execution_count": 40,
      "outputs": []
    },
    {
      "cell_type": "code",
      "metadata": {
        "id": "wnTefRqqwC2R",
        "colab_type": "code",
        "colab": {}
      },
      "source": [
        "for i in range(45):\n",
        "  tokenizer3.vocab[X_top_45[i]] = tokenizer3.vocab.pop('[unused'+str(i)+']')"
      ],
      "execution_count": 74,
      "outputs": []
    },
    {
      "cell_type": "code",
      "metadata": {
        "id": "NDraRWk4Vkbr",
        "colab_type": "code",
        "colab": {}
      },
      "source": [
        "# Tokenize with the new tokenizer\n",
        "X_train = bert_encode(X_s_train, X_t_train, tokenizer0,400)\n",
        "X_val = bert_encode(X_s_val, X_t_val, tokenizer0,400)\n",
        "X_test = bert_encode(X_s_test, X_t_test, tokenizer0,400)"
      ],
      "execution_count": 81,
      "outputs": []
    },
    {
      "cell_type": "code",
      "metadata": {
        "id": "Yes7IhU9WXcl",
        "colab_type": "code",
        "colab": {}
      },
      "source": [
        "# padding with zeros\n",
        "d1 = 512 - X_train['input_mask'].shape[1]\n",
        "d2 = 512 - X_val['input_mask'].shape[1]\n",
        "d3 = 512 - X_test['input_mask'].shape[1]\n",
        "\n",
        "X_train_tokens = X_train\n",
        "X_val_tokens = X_val\n",
        "X_test_tokens = X_test\n",
        "\n",
        "paddings_1 = tf.constant([[0, 0,], [0, d1]])\n",
        "X_train_tokens['input_mask'] = tf.pad(X_train_tokens['input_mask'], paddings_1, \"CONSTANT\")\n",
        "X_train_tokens['input_type_ids'] = tf.pad(X_train_tokens['input_type_ids'], paddings_1, \"CONSTANT\")\n",
        "X_train_tokens['input_word_ids'] = tf.pad(X_train_tokens['input_word_ids'], paddings_1, \"CONSTANT\")\n",
        "\n",
        "\n",
        "paddings_2 = tf.constant([[0, 0,], [0, d2]])\n",
        "X_val_tokens['input_mask'] = tf.pad(X_val_tokens['input_mask'], paddings_2, \"CONSTANT\")\n",
        "X_val_tokens['input_type_ids'] = tf.pad(X_val_tokens['input_type_ids'], paddings_2, \"CONSTANT\")\n",
        "X_val_tokens['input_word_ids'] = tf.pad(X_val_tokens['input_word_ids'], paddings_2, \"CONSTANT\")\n",
        "\n",
        "paddings_3 = tf.constant([[0, 0,], [0, d3]])\n",
        "X_test_tokens['input_mask'] = tf.pad(X_test_tokens['input_mask'], paddings_3, \"CONSTANT\")\n",
        "X_test_tokens['input_type_ids'] = tf.pad(X_test_tokens['input_type_ids'], paddings_3, \"CONSTANT\")\n",
        "X_test_tokens['input_word_ids'] = tf.pad(X_test_tokens['input_word_ids'], paddings_3, \"CONSTANT\")"
      ],
      "execution_count": 82,
      "outputs": []
    },
    {
      "cell_type": "markdown",
      "metadata": {
        "colab_type": "text",
        "id": "OhfZd-M0aoHV"
      },
      "source": [
        "## **Build the model**"
      ]
    },
    {
      "cell_type": "code",
      "metadata": {
        "colab_type": "code",
        "id": "7wOpSdldaoHW",
        "colab": {
          "base_uri": "https://localhost:8080/",
          "height": 217
        },
        "outputId": "88429237-e62b-452a-c0ca-8d0d1ec49899"
      },
      "source": [
        "# Download the configuration for the pre-trained model.\n",
        "bert_config_file = os.path.join(gs_folder_bert, \"bert_config.json\")\n",
        "config_dict = json.loads(tf.io.gfile.GFile(bert_config_file).read())\n",
        "bert_config = bert.configs.BertConfig.from_dict(config_dict)\n",
        "\n",
        "config_dict"
      ],
      "execution_count": 46,
      "outputs": [
        {
          "output_type": "execute_result",
          "data": {
            "text/plain": [
              "{'attention_probs_dropout_prob': 0.1,\n",
              " 'hidden_act': 'gelu',\n",
              " 'hidden_dropout_prob': 0.1,\n",
              " 'hidden_size': 768,\n",
              " 'initializer_range': 0.02,\n",
              " 'intermediate_size': 3072,\n",
              " 'max_position_embeddings': 512,\n",
              " 'num_attention_heads': 12,\n",
              " 'num_hidden_layers': 12,\n",
              " 'type_vocab_size': 2,\n",
              " 'vocab_size': 30522}"
            ]
          },
          "metadata": {
            "tags": []
          },
          "execution_count": 46
        }
      ]
    },
    {
      "cell_type": "code",
      "metadata": {
        "colab_type": "code",
        "id": "eGQ1kmW2aoHa",
        "colab": {
          "base_uri": "https://localhost:8080/",
          "height": 255
        },
        "outputId": "05b11892-2c30-439c-e28e-8203ca369482"
      },
      "source": [
        "with tpu_strategy.scope():\n",
        "    bert_classifier, bert_encoder = bert.bert_models.classifier_model(\n",
        "    bert_config, num_labels=3,max_seq_length=None)"
      ],
      "execution_count": 47,
      "outputs": [
        {
          "output_type": "stream",
          "text": [
            "WARNING:tensorflow:BertClassifier inputs must come from `tf.keras.Input` (thus holding past layer metadata), they cannot be the output of a previous non-Input layer. Here, a tensor specified as input to \"bert_classifier_1\" was not an Input tensor, it was generated by layer input_mask.\n",
            "Note that input tensors are instantiated via `tensor = tf.keras.Input(shape)`.\n",
            "The tensor that caused the issue was: input_mask_1:0\n"
          ],
          "name": "stdout"
        },
        {
          "output_type": "stream",
          "text": [
            "WARNING:tensorflow:BertClassifier inputs must come from `tf.keras.Input` (thus holding past layer metadata), they cannot be the output of a previous non-Input layer. Here, a tensor specified as input to \"bert_classifier_1\" was not an Input tensor, it was generated by layer input_mask.\n",
            "Note that input tensors are instantiated via `tensor = tf.keras.Input(shape)`.\n",
            "The tensor that caused the issue was: input_mask_1:0\n"
          ],
          "name": "stderr"
        },
        {
          "output_type": "stream",
          "text": [
            "WARNING:tensorflow:BertClassifier inputs must come from `tf.keras.Input` (thus holding past layer metadata), they cannot be the output of a previous non-Input layer. Here, a tensor specified as input to \"bert_classifier_1\" was not an Input tensor, it was generated by layer input_type_ids.\n",
            "Note that input tensors are instantiated via `tensor = tf.keras.Input(shape)`.\n",
            "The tensor that caused the issue was: input_type_ids_1:0\n"
          ],
          "name": "stdout"
        },
        {
          "output_type": "stream",
          "text": [
            "WARNING:tensorflow:BertClassifier inputs must come from `tf.keras.Input` (thus holding past layer metadata), they cannot be the output of a previous non-Input layer. Here, a tensor specified as input to \"bert_classifier_1\" was not an Input tensor, it was generated by layer input_type_ids.\n",
            "Note that input tensors are instantiated via `tensor = tf.keras.Input(shape)`.\n",
            "The tensor that caused the issue was: input_type_ids_1:0\n"
          ],
          "name": "stderr"
        }
      ]
    },
    {
      "cell_type": "markdown",
      "metadata": {
        "colab_type": "text",
        "id": "oCHC8XFdXb_z"
      },
      "source": [
        "## **Train the model**"
      ]
    },
    {
      "cell_type": "code",
      "metadata": {
        "colab_type": "code",
        "id": "-4GenzCrXb_0",
        "colab": {
          "base_uri": "https://localhost:8080/",
          "height": 35
        },
        "outputId": "f138d429-c521-493b-82f0-57313fdcb263"
      },
      "source": [
        "# Restore the encoder's weights from the checkpoint\n",
        "checkpoint = tf.train.Checkpoint(model=bert_encoder)\n",
        "checkpoint.restore(\n",
        "    os.path.join(gs_folder_bert, 'bert_model.ckpt')).assert_consumed()"
      ],
      "execution_count": 83,
      "outputs": [
        {
          "output_type": "execute_result",
          "data": {
            "text/plain": [
              "<tensorflow.python.training.tracking.util.CheckpointLoadStatus at 0x7ffaa7db37b8>"
            ]
          },
          "metadata": {
            "tags": []
          },
          "execution_count": 83
        }
      ]
    },
    {
      "cell_type": "code",
      "metadata": {
        "colab_type": "code",
        "id": "vsjZh04UXb_4",
        "colab": {}
      },
      "source": [
        "# Set up epochs and steps\n",
        "# epoch = 2,3\n",
        "# batch_size = 32, 64\n",
        "# learning rate = 2e-5 to 1e-4\n",
        "\n",
        "epochs = 2\n",
        "batch_size = 64\n",
        "eval_batch_size = 64\n",
        "\n",
        "train_data_size = len(y_train)\n",
        "steps_per_epoch = int(train_data_size / batch_size)\n",
        "num_train_steps = steps_per_epoch * epochs\n",
        "warmup_steps = int(epochs * train_data_size * 0.1 / batch_size)\n",
        "\n",
        "# creates an optimizer with learning rate schedule\n",
        "optimizer = nlp.optimization.create_optimizer(\n",
        "    8e-5, num_train_steps=num_train_steps, num_warmup_steps=warmup_steps)"
      ],
      "execution_count": 84,
      "outputs": []
    },
    {
      "cell_type": "code",
      "metadata": {
        "colab_type": "code",
        "id": "Uyt6vAODXb_6",
        "colab": {
          "base_uri": "https://localhost:8080/",
          "height": 90
        },
        "outputId": "5faf3c14-6e93-42a4-e05c-9565b1df892f"
      },
      "source": [
        "with tpu_strategy.scope():\n",
        "  metrics = [tf.keras.metrics.SparseCategoricalAccuracy('accuracy', dtype=tf.float32)]\n",
        "  loss = tf.keras.losses.SparseCategoricalCrossentropy(from_logits=True)\n",
        "\n",
        "  bert_classifier.compile(\n",
        "      optimizer=optimizer,\n",
        "      loss=loss,\n",
        "      metrics=metrics)\n",
        "\n",
        "with tpu_strategy.scope():\n",
        "  history = bert_classifier.fit(\n",
        "      X_train_tokens, y_train,\n",
        "      validation_data=(X_val_tokens, y_val),\n",
        "      batch_size=64,\n",
        "      epochs=epochs)"
      ],
      "execution_count": 85,
      "outputs": [
        {
          "output_type": "stream",
          "text": [
            "Epoch 1/2\n",
            "5685/5685 [==============================] - 1526s 268ms/step - accuracy: 0.9146 - loss: 0.2231 - val_accuracy: 0.9368 - val_loss: 0.1673\n",
            "Epoch 2/2\n",
            "5685/5685 [==============================] - 1492s 262ms/step - accuracy: 0.9531 - loss: 0.1279 - val_accuracy: 0.9472 - val_loss: 0.1490\n"
          ],
          "name": "stdout"
        }
      ]
    },
    {
      "cell_type": "code",
      "metadata": {
        "colab_type": "code",
        "id": "j1cHMUKcXb_8",
        "colab": {
          "base_uri": "https://localhost:8080/",
          "height": 295
        },
        "outputId": "0db17218-425b-46ad-8fcb-57857f16df91"
      },
      "source": [
        "plt.plot(history.history['accuracy'])\n",
        "plt.plot(history.history['val_accuracy'])\n",
        "plt.title('model accuracy')\n",
        "plt.ylabel('Accuracy')\n",
        "plt.xlabel('Epoch')\n",
        "plt.legend(['train', 'test'], loc='upper left')\n",
        "plt.show()"
      ],
      "execution_count": 86,
      "outputs": [
        {
          "output_type": "display_data",
          "data": {
            "image/png": "[encoded data removed]",
            "text/plain": [
              "<Figure size 432x288 with 1 Axes>"
            ]
          },
          "metadata": {
            "tags": [],
            "needs_background": "light"
          }
        }
      ]
    },
    {
      "cell_type": "code",
      "metadata": {
        "colab_type": "code",
        "id": "CFWPI1bfXb_-",
        "colab": {
          "base_uri": "https://localhost:8080/",
          "height": 295
        },
        "outputId": "c3886b3a-1fd1-4e28-8eb6-b35b33e0974a"
      },
      "source": [
        "plt.plot(history.history['loss'])\n",
        "plt.plot(history.history['val_loss'])\n",
        "plt.title('model loss')\n",
        "plt.ylabel('loss')\n",
        "plt.xlabel('epoch')\n",
        "plt.legend(['train', 'test'], loc='upper left')\n",
        "plt.show()"
      ],
      "execution_count": 87,
      "outputs": [
        {
          "output_type": "display_data",
          "data": {
            "image/png": "[encoded data removed]",
            "text/plain": [
              "<Figure size 432x288 with 1 Axes>"
            ]
          },
          "metadata": {
            "tags": [],
            "needs_background": "light"
          }
        }
      ]
    },
    {
      "cell_type": "markdown",
      "metadata": {
        "colab_type": "text",
        "id": "VPUu5fjDXTUR"
      },
      "source": [
        "## **Prediction**"
      ]
    },
    {
      "cell_type": "code",
      "metadata": {
        "colab_type": "code",
        "id": "O_gR5lE4XTUS",
        "colab": {}
      },
      "source": [
        "preds = bert_classifier.predict(X_test_tokens)"
      ],
      "execution_count": 88,
      "outputs": []
    },
    {
      "cell_type": "code",
      "metadata": {
        "colab_type": "code",
        "id": "3ZM8z5y7XTUW",
        "colab": {}
      },
      "source": [
        "y_test.replace('positive',0,True)\n",
        "y_test.replace('negative',1,True)\n",
        "y_test.replace('neutral',2,True)"
      ],
      "execution_count": 89,
      "outputs": []
    },
    {
      "cell_type": "code",
      "metadata": {
        "colab_type": "code",
        "id": "yE6yIi7QXTUY",
        "colab": {
          "base_uri": "https://localhost:8080/",
          "height": 35
        },
        "outputId": "c06147e7-b0b7-438d-c456-dfe48d66d2cb"
      },
      "source": [
        "m = tf.keras.metrics.SparseCategoricalAccuracy()\n",
        "m.update_state(\n",
        "    y_test, preds, sample_weight=None\n",
        ")\n",
        "print(\"Accuracy:{}\".format(m.result().numpy()))"
      ],
      "execution_count": 90,
      "outputs": [
        {
          "output_type": "stream",
          "text": [
            "Accuracy:0.9459813833236694\n"
          ],
          "name": "stdout"
        }
      ]
    },
    {
      "cell_type": "code",
      "metadata": {
        "colab_type": "code",
        "id": "Rh--l3smXTUa",
        "colab": {}
      },
      "source": [
        "outputs = [np.argmax(p, axis = -1) for p in preds]"
      ],
      "execution_count": 91,
      "outputs": []
    },
    {
      "cell_type": "code",
      "metadata": {
        "colab_type": "code",
        "id": "YTV6BFmrXTUc",
        "colab": {
          "base_uri": "https://localhost:8080/",
          "height": 72
        },
        "outputId": "872ebf52-0fce-4822-de7c-ea3325d6ceaf"
      },
      "source": [
        "from sklearn.metrics import confusion_matrix\n",
        "confusion_matrix(y_test, outputs)"
      ],
      "execution_count": 92,
      "outputs": [
        {
          "output_type": "execute_result",
          "data": {
            "text/plain": [
              "array([[14858,  1107,   436],\n",
              "       [ 1402,  5637,  1489],\n",
              "       [  482,  1225, 87047]])"
            ]
          },
          "metadata": {
            "tags": []
          },
          "execution_count": 92
        }
      ]
    },
    {
      "cell_type": "code",
      "metadata": {
        "colab_type": "code",
        "id": "7zvIMe57XTUe",
        "colab": {
          "base_uri": "https://localhost:8080/",
          "height": 35
        },
        "outputId": "b195643b-6faa-4760-c8f8-a32322d37b7a"
      },
      "source": [
        "from sklearn.metrics import accuracy_score\n",
        "accuracy_score(y_test, outputs)"
      ],
      "execution_count": 71,
      "outputs": [
        {
          "output_type": "execute_result",
          "data": {
            "text/plain": [
              "0.9453480291688291"
            ]
          },
          "metadata": {
            "tags": []
          },
          "execution_count": 71
        }
      ]
    }
  ]
}
